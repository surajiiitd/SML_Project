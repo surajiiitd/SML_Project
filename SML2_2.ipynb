{
 "cells": [
  {
   "cell_type": "code",
   "execution_count": 2,
   "metadata": {},
   "outputs": [
    {
     "name": "stderr",
     "output_type": "stream",
     "text": [
      "/usr/lib/python3.6/importlib/_bootstrap.py:219: RuntimeWarning: numpy.dtype size changed, may indicate binary incompatibility. Expected 96, got 88\n",
      "  return f(*args, **kwds)\n"
     ]
    }
   ],
   "source": [
    "import cv2\n",
    "import random\n",
    "import numpy as np\n",
    "import matplotlib.pyplot as plt\n",
    "import copy\n",
    "import os\n",
    "import pandas as pd\n",
    "import pickle\n",
    "import numpy.linalg as linalg\n",
    "from sklearn.model_selection import train_test_split\n",
    "from random import shuffle\n",
    "from sklearn.linear_model import LogisticRegressionCV\n",
    "from sklearn.naive_bayes import GaussianNB\n",
    "import seaborn\n",
    "from sklearn.linear_model import LogisticRegressionCV\n",
    "from random import shuffle\n",
    "from numpy.random import choice\n",
    "import math\n",
    "from sklearn.tree import DecisionTreeClassifier\n",
    "from sklearn import svm\n"
   ]
  },
  {
   "cell_type": "code",
   "execution_count": 3,
   "metadata": {},
   "outputs": [],
   "source": [
    "import warnings\n",
    "warnings.filterwarnings('ignore')\n",
    "import tensorflow.keras as keras\n",
    "import cv2\n",
    "import tensorflow as tf"
   ]
  },
  {
   "cell_type": "code",
   "execution_count": 4,
   "metadata": {},
   "outputs": [],
   "source": [
    "#Cross validation \n",
    "def cross_validation_gaussian(train_new,train_label2,train_size):\n",
    "\n",
    "    fold=5\n",
    "    model=[]\n",
    "    score_set=[]\n",
    "    if len(train_new)%5==0:\n",
    "        length=int(len(train_new)/5)\n",
    "    else:\n",
    "        length=int(len(train_new)/5)+1\n",
    "    newlength=length\n",
    "    counter=0\n",
    "    for q in range(fold):\n",
    "        valid_test_data=[]\n",
    "        valid_test_label=[]\n",
    "        valid_train_data=[]\n",
    "        valid_train_label=[]\n",
    "        if (max(len(train_new),length)==length):\n",
    "            length=len(train_new)\n",
    "#         print(\"Counter : \",counter)\n",
    "#         print(\"End : \",length)\n",
    "        for j in range(counter,length):\n",
    "            valid_test_data.append(train_new[j])\n",
    "            valid_test_label.append(train_label2[j])\n",
    "        counter=counter+newlength\n",
    "        length=length+newlength\n",
    "        valid_test_data=valid_test_data\n",
    "        valid_test_label=valid_test_label\n",
    "        for j in range(len(train_new)):\n",
    "            if train_new[j] not in valid_test_data:\n",
    "                valid_train_data.append(train_new[j])\n",
    "                valid_train_label.append(train_label2[j])\n",
    "#         print(q)\n",
    "#         print(\"Data : \",valid_train_data)\n",
    "#         clf = LogisticRegressionCV(random_state=0, solver='lbfgs',multi_class='multinomial').fit(copy.deepcopy(np.array(valid_train_data)), copy.deepcopy(np.array(valid_train_label)))\n",
    "        clf = GaussianNB().fit(np.array(valid_train_data), np.array(valid_train_label))\n",
    "        a=[]\n",
    "        a=clf.predict(np.array(valid_test_data))\n",
    "        score=clf.score(np.array(valid_test_data),np.array(valid_test_label))\n",
    "        score_set.append(score)\n",
    "        model.append(clf) \n",
    "        del clf\n",
    "\n",
    "\n",
    "    return model,score_set\n",
    "    \n",
    "    "
   ]
  },
  {
   "cell_type": "code",
   "execution_count": 5,
   "metadata": {},
   "outputs": [],
   "source": [
    "#Cross validation \n",
    "def cross_validation_svm(train_new,train_label2,train_size):\n",
    "\n",
    "    fold=5\n",
    "    model=[]\n",
    "    score_set=[]\n",
    "    if len(train_new)%5==0:\n",
    "        length=int(len(train_new)/5)\n",
    "    else:\n",
    "        length=int(len(train_new)/5)+1\n",
    "    newlength=length\n",
    "    counter=0\n",
    "    for q in range(fold):\n",
    "        valid_test_data=[]\n",
    "        valid_test_label=[]\n",
    "        valid_train_data=[]\n",
    "        valid_train_label=[]\n",
    "        if (max(len(train_new),length)==length):\n",
    "            length=len(train_new)\n",
    "#         print(\"Counter : \",counter)\n",
    "#         print(\"End : \",length)\n",
    "        for j in range(counter,length):\n",
    "            valid_test_data.append(train_new[j])\n",
    "            valid_test_label.append(train_label2[j])\n",
    "        counter=counter+newlength\n",
    "        length=length+newlength\n",
    "        valid_test_data=valid_test_data\n",
    "        valid_test_label=valid_test_label\n",
    "        for j in range(len(train_new)):\n",
    "            if train_new[j] not in valid_test_data:\n",
    "                valid_train_data.append(train_new[j])\n",
    "                valid_train_label.append(train_label2[j])\n",
    "#         print(q)\n",
    "#         print(\"Data : \",valid_train_data)\n",
    "#         clf = LogisticRegressionCV(random_state=0, solver='lbfgs',multi_class='multinomial').fit(copy.deepcopy(np.array(valid_train_data)), copy.deepcopy(np.array(valid_train_label)))\n",
    "#         clf = GaussianNB().fit(np.array(valid_train_data), np.array(valid_train_label))\n",
    "        clf = svm.SVC(gamma=0.001)\n",
    "        clf.fit(np.array(valid_train_data), np.array(valid_train_label))\n",
    "        a=[]\n",
    "        a=clf.predict(np.array(valid_test_data))\n",
    "        score=clf.score(np.array(valid_test_data),np.array(valid_test_label))\n",
    "        score_set.append(score)\n",
    "        model.append(clf) \n",
    "        del clf\n",
    "\n",
    "\n",
    "    return model,score_set\n",
    "    \n",
    "    "
   ]
  },
  {
   "cell_type": "code",
   "execution_count": 6,
   "metadata": {},
   "outputs": [],
   "source": [
    "#Cross validation \n",
    "def cross_validation_logistic(train_new,train_label2,train_size):\n",
    "\n",
    "    fold=5\n",
    "    model=[]\n",
    "    score_set=[]\n",
    "    if len(train_new)%5==0:\n",
    "        length=int(len(train_new)/5)\n",
    "    else:\n",
    "        length=int(len(train_new)/5)+1\n",
    "    newlength=length\n",
    "    counter=0\n",
    "    for q in range(fold):\n",
    "        valid_test_data=[]\n",
    "        valid_test_label=[]\n",
    "        valid_train_data=[]\n",
    "        valid_train_label=[]\n",
    "        if (max(len(train_new),length)==length):\n",
    "            length=len(train_new)\n",
    "#         print(\"Counter : \",counter)\n",
    "#         print(\"End : \",length)\n",
    "        for j in range(counter,length):\n",
    "            valid_test_data.append(train_new[j])\n",
    "            valid_test_label.append(train_label2[j])\n",
    "        counter=counter+newlength\n",
    "        length=length+newlength\n",
    "        valid_test_data=valid_test_data\n",
    "        valid_test_label=valid_test_label\n",
    "        for j in range(len(train_new)):\n",
    "            if train_new[j] not in valid_test_data:\n",
    "                valid_train_data.append(train_new[j])\n",
    "                valid_train_label.append(train_label2[j])\n",
    "#         print(q)\n",
    "#         print(\"Data : \",valid_train_data)\n",
    "        clf = LogisticRegressionCV(random_state=0, solver='lbfgs',multi_class='multinomial').fit(np.array(valid_train_data), np.array(valid_train_label))\n",
    "#         clf = GaussianNB().fit(np.array(valid_train_data), np.array(valid_train_label))\n",
    "        a=[]\n",
    "        a=clf.predict(np.array(valid_test_data))\n",
    "        score=clf.score(np.array(valid_test_data),np.array(valid_test_label))\n",
    "        score_set.append(score)\n",
    "        model.append(clf) \n",
    "        del clf\n",
    "\n",
    "\n",
    "    return model,score_set\n",
    "    \n",
    "    "
   ]
  },
  {
   "cell_type": "code",
   "execution_count": 7,
   "metadata": {},
   "outputs": [],
   "source": [
    "#geeks for geeks \n",
    "def sort_list(list1, list2): \n",
    "  \n",
    "    zipped_pairs = zip(list2, list1) \n",
    "  \n",
    "    z = [x for _, x in sorted(zipped_pairs)] \n",
    "      \n",
    "    return z "
   ]
  },
  {
   "cell_type": "code",
   "execution_count": 8,
   "metadata": {},
   "outputs": [],
   "source": [
    "def find_tpr_fpr(predict,real,checker):\n",
    "    tp=0\n",
    "    tn=0\n",
    "    fp=0\n",
    "#     print(\"find_tpr_fpr\")\n",
    "    fn=0\n",
    "    voc=copy.deepcopy([0,1])\n",
    "    v=voc.index(checker)\n",
    "    del voc[v]\n",
    "    for i in range(len(predict)):\n",
    "        if predict[i]==checker and real[i]==checker:\n",
    "            tp=tp+1\n",
    "        if (predict[i] in voc ) and real[i]==checker:\n",
    "            fn=fn+1\n",
    "        if predict[i]==checker and (real[i] in voc):\n",
    "            fp=fp+1\n",
    "        if (predict[i] in voc) and (real[i] in voc):\n",
    "            tn=tn+1\n",
    "    tpr2=0\n",
    "    fpr2=0\n",
    "#     print(\"Total :\",(tp+fp+tn+fn))\n",
    "    tpr2=float(tp/float(tp+fn))   \n",
    "    fpr2=float(fp/float(fp+tn))\n",
    "    \n",
    "    return tpr2,fpr2"
   ]
  },
  {
   "cell_type": "code",
   "execution_count": 26,
   "metadata": {},
   "outputs": [],
   "source": [
    "def roc_design(prob_dist,testdata,checker):\n",
    "    aux1=[]\n",
    "    aux2=[]\n",
    "    testdata1=copy.deepcopy(testdata)\n",
    "    for i in range(len(testdata)):\n",
    "        \n",
    "        aux1.append(prob_dist[i])\n",
    "        aux2.append(testdata[i])\n",
    "    main1=sort_list(aux2, aux1)\n",
    "#     print(\"Probability in incresing order : \",main1)\n",
    "    \n",
    "    tpr=[]\n",
    "    fpr=[]\n",
    "    #aux1 has prob_distribution and main1 has testlabel in sorted order\n",
    "   \n",
    "    main2=[]\n",
    "    j=0\n",
    "    for j in range(len(prob_dist)):\n",
    "        main2.append(checker)\n",
    "    i=0\n",
    "    #Logic \n",
    "    if (checker+1)==2:\n",
    "        flag=checker-1\n",
    "    else:\n",
    "        flag=checker+1\n",
    "        \n",
    "    while i <len(prob_dist):\n",
    "        tpr1=0\n",
    "        fpr1=0\n",
    "        j=0\n",
    "        \n",
    "        while (j  <= i):\n",
    "            main2[j]=flag\n",
    "            j=j+1\n",
    "#         j=i\n",
    "#         while j <len(prob_dist):\n",
    "#             main1[j]=2\n",
    "#             j=j+1\n",
    "#         print(main1)\n",
    "#         m=[]\n",
    "#         tpr.append(tpr1)\n",
    "#         fpr.append(fpr1)\n",
    "        tpr1,fpr1=find_tpr_fpr(copy.deepcopy(main2),copy.deepcopy(main1),checker)\n",
    "#         e.append(testdata)\n",
    "#         d.append(main1)\n",
    "        fpr.append(fpr1)\n",
    "        tpr.append(tpr1)\n",
    "        \n",
    "        i=i+50\n",
    "    return tpr,fpr\n"
   ]
  },
  {
   "cell_type": "code",
   "execution_count": 10,
   "metadata": {},
   "outputs": [
    {
     "data": {
      "text/plain": [
       "'/home/suraj18025/Project'"
      ]
     },
     "execution_count": 10,
     "metadata": {},
     "output_type": "execute_result"
    }
   ],
   "source": [
    "pwd"
   ]
  },
  {
   "cell_type": "code",
   "execution_count": 11,
   "metadata": {},
   "outputs": [
    {
     "ename": "FileNotFoundError",
     "evalue": "[Errno 2] No such file or directory: 'Project'",
     "output_type": "error",
     "traceback": [
      "\u001b[0;31m---------------------------------------------------------------------------\u001b[0m",
      "\u001b[0;31mFileNotFoundError\u001b[0m                         Traceback (most recent call last)",
      "\u001b[0;32m<ipython-input-11-c364f0907c30>\u001b[0m in \u001b[0;36m<module>\u001b[0;34m()\u001b[0m\n\u001b[0;32m----> 1\u001b[0;31m \u001b[0mos\u001b[0m\u001b[0;34m.\u001b[0m\u001b[0mchdir\u001b[0m\u001b[0;34m(\u001b[0m\u001b[0;34m'Project'\u001b[0m\u001b[0;34m)\u001b[0m\u001b[0;34m\u001b[0m\u001b[0;34m\u001b[0m\u001b[0m\n\u001b[0m",
      "\u001b[0;31mFileNotFoundError\u001b[0m: [Errno 2] No such file or directory: 'Project'"
     ]
    }
   ],
   "source": [
    "os.chdir('Project')"
   ]
  },
  {
   "cell_type": "code",
   "execution_count": 12,
   "metadata": {},
   "outputs": [
    {
     "data": {
      "text/plain": [
       "'/home/suraj18025/Project'"
      ]
     },
     "execution_count": 12,
     "metadata": {},
     "output_type": "execute_result"
    }
   ],
   "source": [
    "pwd"
   ]
  },
  {
   "cell_type": "code",
   "execution_count": 13,
   "metadata": {},
   "outputs": [],
   "source": [
    "data= pickle.load(open(\"master_data.txt\", \"rb\"))"
   ]
  },
  {
   "cell_type": "code",
   "execution_count": 14,
   "metadata": {},
   "outputs": [
    {
     "data": {
      "text/plain": [
       "19370"
      ]
     },
     "execution_count": 14,
     "metadata": {},
     "output_type": "execute_result"
    }
   ],
   "source": [
    "len(data)"
   ]
  },
  {
   "cell_type": "code",
   "execution_count": null,
   "metadata": {},
   "outputs": [],
   "source": []
  },
  {
   "cell_type": "code",
   "execution_count": null,
   "metadata": {},
   "outputs": [],
   "source": []
  },
  {
   "cell_type": "code",
   "execution_count": 15,
   "metadata": {},
   "outputs": [],
   "source": [
    "def convert1(label):\n",
    "    if label=='f':\n",
    "        return 1\n",
    "    return 0"
   ]
  },
  {
   "cell_type": "code",
   "execution_count": 16,
   "metadata": {},
   "outputs": [],
   "source": [
    "# train_label=df['gender'].tolist()\n",
    "# train_data=df['pixels'].tolist()\n",
    "train_label=[]\n",
    "train_data=[]\n",
    "for i in range(len(data)):\n",
    "    train_label.append(convert1(data[i][2]))\n",
    "    train_data.append(data[i][3].tolist())\n"
   ]
  },
  {
   "cell_type": "code",
   "execution_count": 17,
   "metadata": {},
   "outputs": [],
   "source": [
    "fold=5\n",
    "train_size=len(train_data)\n",
    "valid_size=int(train_size/float(fold))"
   ]
  },
  {
   "cell_type": "code",
   "execution_count": 18,
   "metadata": {},
   "outputs": [],
   "source": [
    "def convert(temp):\n",
    "    temp1=[int(temp[i]) for i in range(len(temp))]\n",
    "    return temp1"
   ]
  },
  {
   "cell_type": "code",
   "execution_count": 19,
   "metadata": {},
   "outputs": [],
   "source": [
    "main_data_set=[]\n",
    "for i in range(len(train_data)):\n",
    "    temp=[]\n",
    "    temp.append(train_data[i])\n",
    "    temp.append(train_label[i])\n",
    "    main_data_set.append(temp)\n"
   ]
  },
  {
   "cell_type": "code",
   "execution_count": null,
   "metadata": {},
   "outputs": [],
   "source": []
  },
  {
   "cell_type": "code",
   "execution_count": 20,
   "metadata": {},
   "outputs": [],
   "source": [
    "#Size of  train image and test image\n",
    "train_size=int(0.7*len(main_data_set))\n",
    "test_size=int(0.3*len(main_data_set))\n",
    "#Spliting the dataset \n",
    "shuffled_data=random.sample(main_data_set, len(main_data_set))\n",
    "X_train=shuffled_data[:train_size]\n",
    "X_test=shuffled_data[train_size:]"
   ]
  },
  {
   "cell_type": "code",
   "execution_count": 21,
   "metadata": {},
   "outputs": [],
   "source": [
    "train_data=[]\n",
    "train_label=[]\n",
    "for i in range(len(X_train)):\n",
    "    train_data.append(X_train[i][0])\n",
    "    train_label.append(X_train[i][1])"
   ]
  },
  {
   "cell_type": "code",
   "execution_count": 22,
   "metadata": {},
   "outputs": [],
   "source": [
    "test_data=[]\n",
    "test_label=[]\n",
    "for i in range(len(X_test)):\n",
    "    test_data.append(X_test[i][0])\n",
    "    test_label.append(X_test[i][1])"
   ]
  },
  {
   "cell_type": "code",
   "execution_count": 23,
   "metadata": {},
   "outputs": [],
   "source": [
    "fold=5\n",
    "train_size=len(train_data)\n",
    "valid_size=int(train_size/float(fold))"
   ]
  },
  {
   "cell_type": "code",
   "execution_count": null,
   "metadata": {},
   "outputs": [],
   "source": []
  },
  {
   "cell_type": "markdown",
   "metadata": {},
   "source": [
    "# SVM"
   ]
  },
  {
   "cell_type": "code",
   "execution_count": null,
   "metadata": {},
   "outputs": [],
   "source": [
    "model,score_set=cross_validation_svm(train_data,train_label,train_size)"
   ]
  },
  {
   "cell_type": "code",
   "execution_count": null,
   "metadata": {},
   "outputs": [],
   "source": [
    "score_mean=np.mean(np.array(score_set))\n",
    "standard_dev=np.std(np.array(score_set))\n",
    "print(\"Standard deviation : \",standard_dev)\n",
    "print(\"Mean of accuracy :\",score_mean)\n",
    "print(\"Accuracy for each validation : \",score_set)\n"
   ]
  },
  {
   "cell_type": "code",
   "execution_count": null,
   "metadata": {},
   "outputs": [],
   "source": [
    "best=model[np.argmax(score_set)]\n",
    "best_score=best.score(test_data,test_label)\n",
    "prob_dist=best.predict_proba(np.array(test_data)).tolist()\n",
    "label_pred=best.predict(test_data).tolist()\n",
    "print(\"Test Accuracy by best model in cross validation : \",best_score)"
   ]
  },
  {
   "cell_type": "markdown",
   "metadata": {},
   "source": [
    "# Naive Bayes"
   ]
  },
  {
   "cell_type": "code",
   "execution_count": 23,
   "metadata": {},
   "outputs": [],
   "source": [
    "model,score_set=cross_validation_gaussian(train_data,train_label,train_size)"
   ]
  },
  {
   "cell_type": "code",
   "execution_count": 34,
   "metadata": {},
   "outputs": [
    {
     "name": "stdout",
     "output_type": "stream",
     "text": [
      "Standard deviation :  0.005072727117810345\n",
      "Mean of accuracy : 0.5931849539024341\n",
      "Accuracy for each validation :  [0.5977138643067846, 0.5921828908554573, 0.6002949852507374, 0.5877581120943953, 0.5879749170047953]\n",
      "Test Accuracy by best model in cross validation :  0.5866460161762175\n"
     ]
    }
   ],
   "source": [
    "score_mean=np.mean(np.array(score_set))\n",
    "standard_dev=np.std(np.array(score_set))\n",
    "print(\"Standard deviation : \",standard_dev)\n",
    "print(\"Mean of accuracy :\",score_mean)\n",
    "print(\"Accuracy for each validation : \",score_set)\n",
    "best=model[np.argmax(score_set)]\n",
    "best_score=best.score(test_data,test_label)\n",
    "prob_dist=best.predict_proba(test_data).tolist()\n",
    "label_pred=best.predict(test_data).tolist()\n",
    "prob_dist=np.transpose(prob_dist)\n",
    "print(\"Test Accuracy by best model in cross validation : \",best_score)"
   ]
  },
  {
   "cell_type": "code",
   "execution_count": 35,
   "metadata": {},
   "outputs": [
    {
     "name": "stdout",
     "output_type": "stream",
     "text": [
      "0\n",
      "1\n"
     ]
    },
    {
     "data": {
      "image/png": "[encoded data removed]",
      "text/plain": [
       "<Figure size 432x288 with 1 Axes>"
      ]
     },
     "metadata": {},
     "output_type": "display_data"
    }
   ],
   "source": [
    "# ROC Curve \n",
    "prob_dist=np.transpose(prob_dist)\n",
    "for i in range(2):\n",
    "    print(i)\n",
    "    tpr,fpr=roc_design(prob_dist[i],test_label,i)\n",
    "    plt.plot(fpr, tpr ,label=\"Class\"+str(i+1))\n",
    "# roccurve(prob_dist,test_label)\n",
    "plt.xlabel(\"False +ve Rate\")\n",
    "plt.ylabel(\"True +ve Rate\")\n",
    "plt.legend()\n",
    "plt.title(\"ROC Curve for Male and Female\")\n",
    "plt.show()"
   ]
  },
  {
   "cell_type": "markdown",
   "metadata": {},
   "source": [
    "# Logistic Regreesion"
   ]
  },
  {
   "cell_type": "code",
   "execution_count": 24,
   "metadata": {},
   "outputs": [],
   "source": [
    "model,score_set=cross_validation_logistic(train_data,train_label,train_size)"
   ]
  },
  {
   "cell_type": "code",
   "execution_count": 25,
   "metadata": {},
   "outputs": [
    {
     "name": "stdout",
     "output_type": "stream",
     "text": [
      "Standard deviation :  0.00678774634907682\n",
      "Mean of accuracy : 0.6705507116750395\n",
      "Accuracy for each validation :  [0.6736725663716814, 0.672566371681416, 0.6795722713864307, 0.6592920353982301, 0.6676503135374401]\n",
      "Test Accuracy by best model in cross validation :  0.6761314747891929\n"
     ]
    }
   ],
   "source": [
    "score_mean=np.mean(np.array(score_set))\n",
    "standard_dev=np.std(np.array(score_set))\n",
    "print(\"Standard deviation : \",standard_dev)\n",
    "print(\"Mean of accuracy :\",score_mean)\n",
    "print(\"Accuracy for each validation : \",score_set)\n",
    "best=model[np.argmax(score_set)]\n",
    "best_score=best.score(test_data,test_label)\n",
    "prob_dist=best.predict_proba(test_data).tolist()\n",
    "label_pred=best.predict(test_data).tolist()\n",
    "print(\"Test Accuracy by best model in cross validation : \",best_score)"
   ]
  },
  {
   "cell_type": "code",
   "execution_count": null,
   "metadata": {},
   "outputs": [],
   "source": [
    "temp=[]\n",
    "for i in range(len(train_label)):\n",
    "    if train_label[i]=='f':\n",
    "        temp.append(1)\n",
    "    else:\n",
    "        temp.append(0)\n",
    "train_label=copy.deepcopy(temp)"
   ]
  },
  {
   "cell_type": "code",
   "execution_count": null,
   "metadata": {},
   "outputs": [],
   "source": []
  },
  {
   "cell_type": "markdown",
   "metadata": {},
   "source": [
    "# Neural Network"
   ]
  },
  {
   "cell_type": "code",
   "execution_count": 1,
   "metadata": {},
   "outputs": [
    {
     "ename": "NameError",
     "evalue": "name 'np' is not defined",
     "output_type": "error",
     "traceback": [
      "\u001b[0;31m---------------------------------------------------------------------------\u001b[0m",
      "\u001b[0;31mNameError\u001b[0m                                 Traceback (most recent call last)",
      "\u001b[0;32m<ipython-input-1-f19da43c2b3a>\u001b[0m in \u001b[0;36m<module>\u001b[0;34m()\u001b[0m\n\u001b[0;32m----> 1\u001b[0;31m \u001b[0mx_train\u001b[0m\u001b[0;34m=\u001b[0m\u001b[0mnp\u001b[0m\u001b[0;34m.\u001b[0m\u001b[0marray\u001b[0m\u001b[0;34m(\u001b[0m\u001b[0mtrain_data\u001b[0m\u001b[0;34m)\u001b[0m\u001b[0;34m\u001b[0m\u001b[0;34m\u001b[0m\u001b[0m\n\u001b[0m\u001b[1;32m      2\u001b[0m \u001b[0my_train\u001b[0m\u001b[0;34m=\u001b[0m\u001b[0mnp\u001b[0m\u001b[0;34m.\u001b[0m\u001b[0marray\u001b[0m\u001b[0;34m(\u001b[0m\u001b[0mtrain_label\u001b[0m\u001b[0;34m)\u001b[0m\u001b[0;34m\u001b[0m\u001b[0;34m\u001b[0m\u001b[0m\n\u001b[1;32m      3\u001b[0m \u001b[0mx_test\u001b[0m\u001b[0;34m=\u001b[0m\u001b[0mnp\u001b[0m\u001b[0;34m.\u001b[0m\u001b[0marray\u001b[0m\u001b[0;34m(\u001b[0m\u001b[0mtest_data\u001b[0m\u001b[0;34m)\u001b[0m\u001b[0;34m\u001b[0m\u001b[0;34m\u001b[0m\u001b[0m\n\u001b[1;32m      4\u001b[0m \u001b[0my_test\u001b[0m\u001b[0;34m=\u001b[0m\u001b[0mnp\u001b[0m\u001b[0;34m.\u001b[0m\u001b[0marray\u001b[0m\u001b[0;34m(\u001b[0m\u001b[0mtest_label\u001b[0m\u001b[0;34m)\u001b[0m\u001b[0;34m\u001b[0m\u001b[0;34m\u001b[0m\u001b[0m\n",
      "\u001b[0;31mNameError\u001b[0m: name 'np' is not defined"
     ]
    }
   ],
   "source": [
    "x_train=np.array(train_data)\n",
    "y_train=np.array(train_label)\n",
    "x_test=np.array(test_data)\n",
    "y_test=np.array(test_label)"
   ]
  },
  {
   "cell_type": "code",
   "execution_count": 37,
   "metadata": {},
   "outputs": [],
   "source": [
    "x_train = tf.keras.utils.normalize(x_train, axis=1)\n",
    "x_test = tf.keras.utils.normalize(x_test, axis=1)\n",
    "model = tf.keras.models.Sequential()"
   ]
  },
  {
   "cell_type": "code",
   "execution_count": 41,
   "metadata": {},
   "outputs": [],
   "source": [
    "model.add(tf.keras.layers.Flatten())\n",
    "model.add(tf.keras.layers.Dense(128, activation=tf.nn.relu))\n",
    "model.add(tf.keras.layers.Dense(128, activation=tf.nn.relu))\n",
    "model.add(tf.keras.layers.Dense(128, activation=tf.nn.relu))\n",
    "model.add(tf.keras.layers.Dense(128, activation=tf.nn.relu))\n",
    "model.add(tf.keras.layers.Dense(128, activation=tf.nn.relu))\n",
    "model.add(tf.keras.layers.Dense(2, activation=tf.nn.softmax))"
   ]
  },
  {
   "cell_type": "code",
   "execution_count": 42,
   "metadata": {},
   "outputs": [],
   "source": [
    "model.compile(optimizer='adam',\n",
    "              loss='mean_squared_error',\n",
    "              metrics=['accuracy'])"
   ]
  },
  {
   "cell_type": "code",
   "execution_count": null,
   "metadata": {},
   "outputs": [
    {
     "name": "stdout",
     "output_type": "stream",
     "text": [
      "WARNING:tensorflow:Discrepancy between trainable weights and collected trainable weights, did you set `model.trainable` without calling `model.compile` after ?\n"
     ]
    }
   ],
   "source": [
    "model.fit(x_train, y_train, epochs=50)"
   ]
  },
  {
   "cell_type": "markdown",
   "metadata": {},
   "source": [
    "# Adaboosting"
   ]
  },
  {
   "cell_type": "code",
   "execution_count": null,
   "metadata": {},
   "outputs": [],
   "source": [
    "def adaboost(n,train_data1,train_label1,test_data,test_label,weights,d):\n",
    "    \n",
    "    alpha_k=[]\n",
    "    Ck=[]\n",
    "    nat=[i for i in range(len(train_data1))]\n",
    "    main_data=copy.deepcopy(train_data1)\n",
    "    main_label=copy.deepcopy(train_label1)\n",
    "    \n",
    "    for i in range(n):\n",
    "        print(i)\n",
    "#         print(\"Hello : \",i)\n",
    "        sample = choice(nat, d,p=weights,replace=False)\n",
    "#         sample = choice(nat,d,weights,replace=False)\n",
    "        train_data=[]\n",
    "        train_label=[]\n",
    "        for j in range(len(sample)):\n",
    "            train_data.append(train_data1[sample[j]])\n",
    "            train_label.append(train_label1[sample[j]])\n",
    "        \n",
    "        clf=DecisionTreeClassifier(max_depth=3,max_leaf_nodes=10)\n",
    "        clf.fit(np.array(train_data),np.array(train_label))\n",
    "        predict1=clf.predict(np.array(main_data))\n",
    "        h=labelling(predict1.tolist(),main_label)\n",
    "        train_err=clf.score(np.array(train_data),np.array(train_label))\n",
    "        train_err=1-train_err\n",
    "        alpha=0.5*np.log((1-train_err)/float(train_err))+np.log(25)\n",
    "        alpha_k.append(alpha)\n",
    "        Ck.append(clf)\n",
    "#         print(\"Hello1 : \",i)\n",
    "        for j in range(len(weights)):\n",
    "            \n",
    "            if h[j]==1:\n",
    "                \n",
    "                weights[j]=weights[j]*math.exp((-1)*alpha)\n",
    "            else:\n",
    "                weights[j]=weights[j]*math.exp(alpha)\n",
    "        w=copy.deepcopy(weights)\n",
    "        total=np.sum(w)\n",
    "        for j in range(len(weights)):\n",
    "            weights[j]=weights[j]/float(total)\n",
    "#         print(\"Hello2 : \",i)\n",
    " #For test set\n",
    "    test_predict=[]\n",
    "    for i in range(len(test_data)):\n",
    "        disc_func=[[] for i in class_label]\n",
    "        for j in range(k_max):\n",
    "            index=Ck[j].predict(np.array(test_data[i]).reshape(1,-1)).tolist()[0]\n",
    "            if disc_func[index]==[]:\n",
    "                disc_func[index].append(alpha_k[j])\n",
    "            else:\n",
    "                disc_func[index][0]+=alpha_k[j]\n",
    "        test_predict.append(disc_func.index(max(disc_func)))\n",
    "\n",
    "    test_acc=accuracy(test_predict,test_label)   \n",
    "# For train set\n",
    "    train_predict=[]\n",
    "#     for i in range(len(train_data1)):\n",
    "#         disc_func1=[[] for i in class_label]\n",
    "#         for j in range(k_max):\n",
    "#             index=Ck[j].predict(np.array(train_data1[i]).reshape(1,-1)).tolist()[0]\n",
    "#             if disc_func1[index]==[]:\n",
    "#                 disc_func1[index].append(alpha_k[j])\n",
    "#             else:\n",
    "#                 disc_func1[index][0]+=alpha_k[j]\n",
    "#         train_predict.append(disc_func1.index(max(disc_func1)))\n",
    "\n",
    "#     train_acc=accuracy(train_predict,train_label1)  \n",
    "    train_acc=0\n",
    "    return Ck,alpha_k,train_predict,test_predict,train_acc,test_acc\n",
    "            "
   ]
  },
  {
   "cell_type": "code",
   "execution_count": null,
   "metadata": {},
   "outputs": [],
   "source": [
    "k_max=50\n",
    "d=3000\n",
    "class_label=list(set(train_label))\n"
   ]
  },
  {
   "cell_type": "code",
   "execution_count": null,
   "metadata": {},
   "outputs": [],
   "source": [
    "weights=[1/float(len(train_data)) for i in train_data]\n",
    "Ck,alpha_k,train_result,test_result,train_acc,test_acc=adaboost(k_max,train_data,train_label,test_data,test_label,weights,d)"
   ]
  },
  {
   "cell_type": "code",
   "execution_count": null,
   "metadata": {},
   "outputs": [],
   "source": [
    "print(\"Accuracy in training : \",train_acc)\n",
    "print(\"Accuracy in testing : \",test_acc)"
   ]
  },
  {
   "cell_type": "markdown",
   "metadata": {},
   "source": [
    "# Histogram as feature set"
   ]
  },
  {
   "cell_type": "code",
   "execution_count": null,
   "metadata": {},
   "outputs": [],
   "source": [
    "def histogram(train_data):\n",
    "    hist=[0]*256\n",
    "    for i in range(len(train_data)):\n",
    "        hist[train_data[i]]+=1\n",
    "    return hist\n",
    "        "
   ]
  },
  {
   "cell_type": "code",
   "execution_count": null,
   "metadata": {},
   "outputs": [],
   "source": [
    "train_data1=[]\n",
    "for i in range(len(train_data)):\n",
    "    train_data1.append(histogram(train_data[i]))\n",
    "test_data1=[]\n",
    "for i in range(len(test_data)):\n",
    "    test_data1.append(histogram(test_data[i]))\n",
    "\n"
   ]
  },
  {
   "cell_type": "code",
   "execution_count": null,
   "metadata": {},
   "outputs": [],
   "source": [
    "train_data=copy.deepcopy(train_data1)\n",
    "test_data=copy.deepcopy(test_data1)\n"
   ]
  },
  {
   "cell_type": "markdown",
   "metadata": {},
   "source": [
    "# Logistic Regression"
   ]
  },
  {
   "cell_type": "code",
   "execution_count": null,
   "metadata": {},
   "outputs": [],
   "source": [
    "model,score_set=cross_validation_logistic(train_data,train_label,train_size)"
   ]
  },
  {
   "cell_type": "code",
   "execution_count": null,
   "metadata": {},
   "outputs": [],
   "source": [
    "score_mean=np.mean(np.array(score_set))\n",
    "standard_dev=np.std(np.array(score_set))\n",
    "print(\"Standard deviation : \",standard_dev)\n",
    "print(\"Mean of accuracy :\",score_mean)\n",
    "print(\"Accuracy for each validation : \",score_set)\n",
    "# best=model[np.argmax(score_set)]\n",
    "# best_score=best.score(test_data,test_label)\n",
    "# prob_dist=best.predict_proba(test_data).tolist()\n",
    "# label_pred=best.predict(test_data).tolist()\n",
    "# print(\"Test Accuracy by best model in cross validation : \",best_score)"
   ]
  },
  {
   "cell_type": "markdown",
   "metadata": {},
   "source": [
    "# Naive Bayes"
   ]
  },
  {
   "cell_type": "code",
   "execution_count": null,
   "metadata": {},
   "outputs": [],
   "source": [
    "model,score_set=cross_validation_gaussian(train_data,train_label,train_size)"
   ]
  },
  {
   "cell_type": "code",
   "execution_count": null,
   "metadata": {},
   "outputs": [],
   "source": [
    "score_mean=np.mean(np.array(score_set))\n",
    "standard_dev=np.std(np.array(score_set))\n",
    "print(\"Standard deviation : \",standard_dev)\n",
    "print(\"Mean of accuracy :\",score_mean)\n",
    "print(\"Accuracy for each validation : \",score_set)\n",
    "# best=model[np.argmax(score_set)]\n",
    "# best_score=best.score(test_data,test_label)\n",
    "# prob_dist=best.predict_proba(test_data).tolist()\n",
    "# label_pred=best.predict(test_data).tolist()\n",
    "# print(\"Test Accuracy by best model in cross validation : \",best_score)"
   ]
  },
  {
   "cell_type": "markdown",
   "metadata": {},
   "source": [
    "# SVM"
   ]
  },
  {
   "cell_type": "code",
   "execution_count": null,
   "metadata": {},
   "outputs": [],
   "source": [
    "model,score_set=cross_validation_svm(train_data,train_label,train_size)"
   ]
  },
  {
   "cell_type": "code",
   "execution_count": null,
   "metadata": {},
   "outputs": [],
   "source": [
    "score_mean=np.mean(np.array(score_set))\n",
    "standard_dev=np.std(np.array(score_set))\n",
    "print(\"Standard deviation : \",standard_dev)\n",
    "print(\"Mean of accuracy :\",score_mean)\n",
    "print(\"Accuracy for each validation : \",score_set)\n",
    "# best=model[np.argmax(score_set)]\n",
    "# best_score=best.score(test_data,test_label)\n",
    "# prob_dist=best.predict_proba(test_data).tolist()\n",
    "# label_pred=best.predict(test_data).tolist()\n",
    "# print(\"Test Accuracy by best model in cross validation : \",best_score)"
   ]
  },
  {
   "cell_type": "markdown",
   "metadata": {},
   "source": [
    "# Neural Network"
   ]
  },
  {
   "cell_type": "code",
   "execution_count": null,
   "metadata": {},
   "outputs": [],
   "source": [
    "x_train=np.array(train_data)\n",
    "y_train=np.array(train_label)\n",
    "x_test=np.array(test_data)\n",
    "y_test=np.array(test_label)"
   ]
  },
  {
   "cell_type": "code",
   "execution_count": null,
   "metadata": {},
   "outputs": [],
   "source": [
    "x_train = tf.keras.utils.normalize(x_train, axis=1)\n",
    "x_test = tf.keras.utils.normalize(x_test, axis=1)\n",
    "model = tf.keras.models.Sequential()"
   ]
  },
  {
   "cell_type": "code",
   "execution_count": null,
   "metadata": {},
   "outputs": [],
   "source": [
    "model.add(tf.keras.layers.Flatten())\n",
    "model.add(tf.keras.layers.Dense(128, activation=tf.nn.relu))\n",
    "model.add(tf.keras.layers.Dense(128, activation=tf.nn.relu))\n",
    "model.add(tf.keras.layers.Dense(128, activation=tf.nn.relu))\n",
    "model.add(tf.keras.layers.Dense(128, activation=tf.nn.relu))\n",
    "model.add(tf.keras.layers.Dense(128, activation=tf.nn.relu))\n",
    "model.add(tf.keras.layers.Dense(128, activation=tf.nn.relu))\n",
    "model.add(tf.keras.layers.Dense(128, activation=tf.nn.relu))\n",
    "model.add(tf.keras.layers.Dense(2, activation=tf.nn.softmax))"
   ]
  },
  {
   "cell_type": "code",
   "execution_count": null,
   "metadata": {},
   "outputs": [],
   "source": [
    "model.compile(optimizer='adam',\n",
    "              loss='sparse_categorical_crossentropy',\n",
    "              metrics=['accuracy'])"
   ]
  },
  {
   "cell_type": "code",
   "execution_count": null,
   "metadata": {},
   "outputs": [],
   "source": [
    "model.fit(x_train, y_train, epochs=50)"
   ]
  },
  {
   "cell_type": "code",
   "execution_count": null,
   "metadata": {},
   "outputs": [],
   "source": [
    "val_loss, val_acc = model.evaluate(x_test, y_test)\n",
    "print(val_loss)\n",
    "print(val_acc)"
   ]
  },
  {
   "cell_type": "markdown",
   "metadata": {},
   "source": [
    "# Adaboosting"
   ]
  },
  {
   "cell_type": "code",
   "execution_count": null,
   "metadata": {},
   "outputs": [],
   "source": [
    "k_max=50\n",
    "d=3000\n",
    "class_label=list(set(train_label))\n"
   ]
  },
  {
   "cell_type": "code",
   "execution_count": null,
   "metadata": {},
   "outputs": [],
   "source": [
    "def labelling(predict,true):\n",
    "    h=[]\n",
    "    for i in range(len(predict)):\n",
    "        if predict[i]==true[i]:\n",
    "            h.append(1)\n",
    "        else:\n",
    "            h.append(0)\n",
    "    return h"
   ]
  },
  {
   "cell_type": "code",
   "execution_count": null,
   "metadata": {},
   "outputs": [],
   "source": [
    "weights=[1/float(len(train_data)) for i in train_data]\n",
    "Ck,alpha_k,train_result,test_result,train_acc,test_acc=adaboost(k_max,train_data,train_label,test_data,test_label,weights,d)"
   ]
  },
  {
   "cell_type": "code",
   "execution_count": null,
   "metadata": {},
   "outputs": [],
   "source": [
    "print(\"Accuracy in training : \",train_acc)\n",
    "print(\"Accuracy in testing : \",test_acc)"
   ]
  },
  {
   "cell_type": "markdown",
   "metadata": {},
   "source": [
    "# Bagging"
   ]
  },
  {
   "cell_type": "code",
   "execution_count": null,
   "metadata": {},
   "outputs": [],
   "source": []
  },
  {
   "cell_type": "code",
   "execution_count": null,
   "metadata": {},
   "outputs": [],
   "source": []
  },
  {
   "cell_type": "code",
   "execution_count": null,
   "metadata": {},
   "outputs": [],
   "source": []
  },
  {
   "cell_type": "code",
   "execution_count": null,
   "metadata": {},
   "outputs": [],
   "source": []
  }
 ],
 "metadata": {
  "kernelspec": {
   "display_name": "Python 3",
   "language": "python",
   "name": "python3"
  },
  "language_info": {
   "codemirror_mode": {
    "name": "ipython",
    "version": 3
   },
   "file_extension": ".py",
   "mimetype": "text/x-python",
   "name": "python",
   "nbconvert_exporter": "python",
   "pygments_lexer": "ipython3",
   "version": "3.6.8"
  }
 },
 "nbformat": 4,
 "nbformat_minor": 2
}
