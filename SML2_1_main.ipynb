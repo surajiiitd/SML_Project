{
 "cells": [
  {
   "cell_type": "code",
   "execution_count": 85,
   "metadata": {},
   "outputs": [],
   "source": [
    "import cv2\n",
    "import random\n",
    "import numpy as np\n",
    "import matplotlib.pyplot as plt\n",
    "import copy\n",
    "import os\n",
    "import pandas as pd\n",
    "import pickle\n",
    "import numpy.linalg as linalg\n",
    "from sklearn.model_selection import train_test_split\n",
    "from random import shuffle\n",
    "from sklearn.linear_model import LogisticRegressionCV\n",
    "from sklearn.naive_bayes import GaussianNB\n",
    "import seaborn\n",
    "from random import shuffle\n",
    "from numpy.random import choice\n",
    "import math\n",
    "from sklearn.tree import DecisionTreeClassifier\n",
    "from sklearn import svm\n",
    "from scipy import ndarray\n",
    "from keras.preprocessing.image import ImageDataGenerator, array_to_img, img_to_array, load_img\n",
    "# image processing library\n",
    "import skimage as sk\n",
    "from skimage import transform\n",
    "from skimage import util\n",
    "from skimage import io\n",
    "from sklearn import preprocessing\n",
    "import matplotlib.patheffects as PathEffects\n",
    "import seaborn as sns\n",
    "from sklearn.decomposition import PCA\n",
    "from skimage.feature import hog\n",
    "from skimage.feature import local_binary_pattern\n",
    "import torchvision.models as models\n",
    "import torch\n",
    "import torchvision\n",
    "import torchvision.transforms as transforms\n",
    "import torch.utils.data as utils\n",
    "import torch.nn as nn\n",
    "import torch.nn.functional as F\n",
    "import torch.optim as optim\n",
    "from PIL import Image\n",
    "import matplotlib.cm as cm\n",
    "from sklearn.neighbors import KNeighborsClassifier\n",
    "from sklearn.metrics import precision_score\n",
    "from sklearn.metrics import recall_score\n",
    "from sklearn.metrics import precision_recall_fscore_support\n",
    "from sklearn import preprocessing\n",
    "from sklearn.preprocessing import scale"
   ]
  },
  {
   "cell_type": "code",
   "execution_count": 2,
   "metadata": {},
   "outputs": [],
   "source": [
    "import warnings\n",
    "warnings.filterwarnings('ignore')\n",
    "import tensorflow.keras as keras\n",
    "import cv2\n",
    "import tensorflow as tf"
   ]
  },
  {
   "cell_type": "code",
   "execution_count": 3,
   "metadata": {},
   "outputs": [],
   "source": [
    "config = tf.ConfigProto()\n",
    "config.gpu_options.allow_growth=True\n",
    "sess = tf.Session(config=config)"
   ]
  },
  {
   "cell_type": "code",
   "execution_count": 4,
   "metadata": {},
   "outputs": [],
   "source": [
    "#Cross validation \n",
    "def cross_validation_gaussian(train_new,train_label2,train_size):\n",
    "\n",
    "    fold=5\n",
    "    model=[]\n",
    "    score_set=[]\n",
    "    if len(train_new)%5==0:\n",
    "        length=int(len(train_new)/5)\n",
    "    else:\n",
    "        length=int(len(train_new)/5)+1\n",
    "    newlength=length\n",
    "    counter=0\n",
    "    for q in range(fold):\n",
    "        valid_test_data=[]\n",
    "        valid_test_label=[]\n",
    "        valid_train_data=[]\n",
    "        valid_train_label=[]\n",
    "        if (max(len(train_new),length)==length):\n",
    "            length=len(train_new)\n",
    "#         print(\"Counter : \",counter)\n",
    "#         print(\"End : \",length)\n",
    "        for j in range(counter,length):\n",
    "            valid_test_data.append(train_new[j])\n",
    "            valid_test_label.append(train_label2[j])\n",
    "        counter=counter+newlength\n",
    "        length=length+newlength\n",
    "        valid_test_data=valid_test_data\n",
    "        valid_test_label=valid_test_label\n",
    "        for j in range(len(train_new)):\n",
    "            if train_new[j] not in valid_test_data:\n",
    "                valid_train_data.append(train_new[j])\n",
    "                valid_train_label.append(train_label2[j])\n",
    "#         print(q)\n",
    "#         print(\"Data : \",valid_train_data)\n",
    "#         clf = LogisticRegressionCV(random_state=0, solver='lbfgs',multi_class='multinomial').fit(copy.deepcopy(np.array(valid_train_data)), copy.deepcopy(np.array(valid_train_label)))\n",
    "        clf = GaussianNB().fit(np.array(valid_train_data), np.array(valid_train_label))\n",
    "        a=[]\n",
    "        a=clf.predict(np.array(valid_test_data))\n",
    "        score=clf.score(np.array(valid_test_data),np.array(valid_test_label))\n",
    "        score_set.append(score)\n",
    "        model.append(clf) \n",
    "        del clf\n",
    "\n",
    "\n",
    "    return model,score_set\n",
    "    \n",
    "    "
   ]
  },
  {
   "cell_type": "code",
   "execution_count": 5,
   "metadata": {},
   "outputs": [],
   "source": [
    "#Cross validation \n",
    "def cross_validation_svm(train_new,train_label2,train_size):\n",
    "\n",
    "    fold=5\n",
    "    model=[]\n",
    "    score_set=[]\n",
    "    if len(train_new)%5==0:\n",
    "        length=int(len(train_new)/5)\n",
    "    else:\n",
    "        length=int(len(train_new)/5)+1\n",
    "    newlength=length\n",
    "    counter=0\n",
    "    for q in range(fold):\n",
    "        valid_test_data=[]\n",
    "        valid_test_label=[]\n",
    "        valid_train_data=[]\n",
    "        valid_train_label=[]\n",
    "        if (max(len(train_new),length)==length):\n",
    "            length=len(train_new)\n",
    "#         print(\"Counter : \",counter)\n",
    "#         print(\"End : \",length)\n",
    "        for j in range(counter,length):\n",
    "            valid_test_data.append(train_new[j])\n",
    "            valid_test_label.append(train_label2[j])\n",
    "        counter=counter+newlength\n",
    "        length=length+newlength\n",
    "        valid_test_data=valid_test_data\n",
    "        valid_test_label=valid_test_label\n",
    "        for j in range(len(train_new)):\n",
    "            if train_new[j] not in valid_test_data:\n",
    "                valid_train_data.append(train_new[j])\n",
    "                valid_train_label.append(train_label2[j])\n",
    "#         print(q)\n",
    "#         print(\"Data : \",valid_train_data)\n",
    "#         clf = LogisticRegressionCV(random_state=0, solver='lbfgs',multi_class='multinomial').fit(copy.deepcopy(np.array(valid_train_data)), copy.deepcopy(np.array(valid_train_label)))\n",
    "#         clf = GaussianNB().fit(np.array(valid_train_data), np.array(valid_train_label))\n",
    "        clf = svm.SVC(gamma=0.001,probability=True)\n",
    "        clf.fit(np.array(valid_train_data), np.array(valid_train_label))\n",
    "        a=[]\n",
    "        a=clf.predict(np.array(valid_test_data))\n",
    "        score=clf.score(np.array(valid_test_data),np.array(valid_test_label))\n",
    "        score_set.append(score)\n",
    "        model.append(clf) \n",
    "        del clf\n",
    "\n",
    "\n",
    "    return model,score_set\n",
    "    \n",
    "    "
   ]
  },
  {
   "cell_type": "code",
   "execution_count": 6,
   "metadata": {},
   "outputs": [],
   "source": [
    "#Cross validation \n",
    "def cross_validation_logistic(train_new,train_label2,train_size):\n",
    "\n",
    "    fold=5\n",
    "    model=[]\n",
    "    score_set=[]\n",
    "    if len(train_new)%5==0:\n",
    "        length=int(len(train_new)/5)\n",
    "    else:\n",
    "        length=int(len(train_new)/5)+1\n",
    "    newlength=length\n",
    "    counter=0\n",
    "    for q in range(fold):\n",
    "        valid_test_data=[]\n",
    "        valid_test_label=[]\n",
    "        valid_train_data=[]\n",
    "        valid_train_label=[]\n",
    "        if (max(len(train_new),length)==length):\n",
    "            length=len(train_new)\n",
    "#         print(\"Counter : \",counter)\n",
    "#         print(\"End : \",length)\n",
    "        for j in range(counter,length):\n",
    "            valid_test_data.append(train_new[j])\n",
    "            valid_test_label.append(train_label2[j])\n",
    "        counter=counter+newlength\n",
    "        length=length+newlength\n",
    "        valid_test_data=valid_test_data\n",
    "        valid_test_label=valid_test_label\n",
    "        for j in range(len(train_new)):\n",
    "            if train_new[j] not in valid_test_data:\n",
    "                valid_train_data.append(train_new[j])\n",
    "                valid_train_label.append(train_label2[j])\n",
    "#         print(q)\n",
    "#         print(\"Data : \",valid_train_data)\n",
    "        clf = LogisticRegressionCV(random_state=0, solver='lbfgs',multi_class='multinomial').fit(np.array(valid_train_data), np.array(valid_train_label))\n",
    "#         clf = GaussianNB().fit(np.array(valid_train_data), np.array(valid_train_label))\n",
    "        a=[]\n",
    "        a=clf.predict(np.array(valid_test_data))\n",
    "        score=clf.score(np.array(valid_test_data),np.array(valid_test_label))\n",
    "        score_set.append(score)\n",
    "        model.append(clf) \n",
    "        del clf\n",
    "\n",
    "\n",
    "    return model,score_set\n",
    "    \n",
    "    "
   ]
  },
  {
   "cell_type": "code",
   "execution_count": 7,
   "metadata": {},
   "outputs": [],
   "source": [
    "#geeks for geeks \n",
    "def sort_list(list1, list2): \n",
    "  \n",
    "    zipped_pairs = zip(list2, list1) \n",
    "  \n",
    "    z = [x for _, x in sorted(zipped_pairs)] \n",
    "      \n",
    "    return z "
   ]
  },
  {
   "cell_type": "code",
   "execution_count": null,
   "metadata": {},
   "outputs": [],
   "source": []
  },
  {
   "cell_type": "code",
   "execution_count": null,
   "metadata": {},
   "outputs": [],
   "source": []
  },
  {
   "cell_type": "code",
   "execution_count": 8,
   "metadata": {},
   "outputs": [],
   "source": [
    "# os.chdir('Project')"
   ]
  },
  {
   "cell_type": "code",
   "execution_count": 131,
   "metadata": {},
   "outputs": [
    {
     "data": {
      "text/plain": [
       "'/home/suraj18025/SML_Project'"
      ]
     },
     "execution_count": 131,
     "metadata": {},
     "output_type": "execute_result"
    }
   ],
   "source": [
    "pwd"
   ]
  },
  {
   "cell_type": "code",
   "execution_count": 132,
   "metadata": {},
   "outputs": [],
   "source": [
    "data= pickle.load(open(\"master_data.pickled\", \"rb\"))"
   ]
  },
  {
   "cell_type": "code",
   "execution_count": 133,
   "metadata": {},
   "outputs": [
    {
     "data": {
      "text/plain": [
       "19370"
      ]
     },
     "execution_count": 133,
     "metadata": {},
     "output_type": "execute_result"
    }
   ],
   "source": [
    "len(data)"
   ]
  },
  {
   "cell_type": "code",
   "execution_count": 134,
   "metadata": {},
   "outputs": [],
   "source": [
    "# train_label=df['gender'].tolist()\n",
    "# train_data=df['pixels'].tolist()\n",
    "train_label=[]\n",
    "train_data=[]\n",
    "for i in range(len(data)):\n",
    "    train_label.append(data[i][2])\n",
    "    train_data.append(data[i][3].tolist())"
   ]
  },
  {
   "cell_type": "code",
   "execution_count": null,
   "metadata": {},
   "outputs": [],
   "source": []
  },
  {
   "cell_type": "code",
   "execution_count": 135,
   "metadata": {},
   "outputs": [],
   "source": [
    "fold=5\n",
    "train_size=len(train_data)\n",
    "valid_size=int(train_size/float(fold))"
   ]
  },
  {
   "cell_type": "code",
   "execution_count": 136,
   "metadata": {},
   "outputs": [],
   "source": [
    "def convert(temp):\n",
    "    temp1=[int(temp[i]) for i in range(len(temp))]\n",
    "    return temp1"
   ]
  },
  {
   "cell_type": "code",
   "execution_count": 137,
   "metadata": {},
   "outputs": [],
   "source": [
    "main_data_set=[]\n",
    "for i in range(len(train_data)):\n",
    "    temp=[]\n",
    "    temp.append(train_data[i])\n",
    "    temp.append(train_label[i])\n",
    "    main_data_set.append(temp)\n"
   ]
  },
  {
   "cell_type": "code",
   "execution_count": 138,
   "metadata": {},
   "outputs": [],
   "source": [
    "#Size of  train image and test image\n",
    "train_size=int(0.8*len(main_data_set))\n",
    "test_size=int(0.2*len(main_data_set))\n",
    "#Spliting the dataset \n",
    "shuffled_data=random.sample(main_data_set, len(main_data_set))\n",
    "X_train=shuffled_data[:train_size]\n",
    "X_test=shuffled_data[train_size:]"
   ]
  },
  {
   "cell_type": "code",
   "execution_count": 139,
   "metadata": {},
   "outputs": [],
   "source": [
    "train_data=[]\n",
    "train_label=[]\n",
    "for i in range(len(X_train)):\n",
    "    train_data.append(X_train[i][0])\n",
    "    train_label.append(X_train[i][1])"
   ]
  },
  {
   "cell_type": "code",
   "execution_count": 140,
   "metadata": {},
   "outputs": [],
   "source": [
    "test_data=[]\n",
    "test_label=[]\n",
    "for i in range(len(X_test)):\n",
    "    test_data.append(X_test[i][0])\n",
    "    test_label.append(X_test[i][1])"
   ]
  },
  {
   "cell_type": "code",
   "execution_count": null,
   "metadata": {},
   "outputs": [],
   "source": []
  },
  {
   "cell_type": "code",
   "execution_count": 141,
   "metadata": {},
   "outputs": [],
   "source": [
    "fold=5\n",
    "train_size=len(train_data)\n",
    "valid_size=int(train_size/float(fold))"
   ]
  },
  {
   "cell_type": "code",
   "execution_count": 142,
   "metadata": {},
   "outputs": [],
   "source": [
    "def convert1(label):\n",
    "    if label=='f':\n",
    "        return 1\n",
    "    return 0"
   ]
  },
  {
   "cell_type": "code",
   "execution_count": 143,
   "metadata": {},
   "outputs": [],
   "source": [
    "test=[]\n",
    "train=[]\n",
    "\n",
    "for i in range(len(test_label)):\n",
    "    test.append(convert1(test_label[i]))\n",
    "for i in range(len(train_label)):\n",
    "    train.append(convert1(train_label[i]))\n",
    "test_label=copy.deepcopy(test)\n",
    "train_label=copy.deepcopy(train)"
   ]
  },
  {
   "cell_type": "markdown",
   "metadata": {},
   "source": [
    "# Visualization of Data"
   ]
  },
  {
   "cell_type": "code",
   "execution_count": 374,
   "metadata": {},
   "outputs": [],
   "source": [
    "#Visualization of Data \n",
    "def fashion_scatter(x, colors):\n",
    "    # choose a color palette with seaborn.\n",
    "    num_classes = len(np.unique(colors))\n",
    "    palette = np.array(sns.color_palette(\"hls\", num_classes))\n",
    "    # create a scatter plot.\n",
    "    f = plt.figure(figsize=(8, 8))\n",
    "    ax = plt.subplot(aspect='equal')\n",
    "    sc = ax.scatter(x[:,0], x[:,1], lw=0, s=40, c=palette[colors.astype(np.int)])\n",
    "    plt.xlim(-25, 25)\n",
    "    plt.ylim(-25, 25)\n",
    "    ax.axis('off')\n",
    "    ax.axis('tight')\n",
    "\n",
    "    # add the labels for each digit corresponding to the label\n",
    "    txts = []\n",
    "\n",
    "    for i in range(num_classes):\n",
    "\n",
    "        # Position of each label at median of data points.\n",
    "\n",
    "        xtext, ytext = np.median(x[colors == i, :], axis=0)\n",
    "        txt = ax.text(xtext, ytext, str(i), fontsize=24)\n",
    "        txt.set_path_effects([\n",
    "            PathEffects.Stroke(linewidth=5, foreground=\"w\"),\n",
    "            PathEffects.Normal()])\n",
    "        txts.append(txt)\n",
    "\n",
    "    return f, ax, sc, txts"
   ]
  },
  {
   "cell_type": "code",
   "execution_count": 58,
   "metadata": {},
   "outputs": [],
   "source": [
    "# #Visualisation of Data \n",
    "\n",
    "# from sklearn.manifold import TSNE\n",
    "# from sklearn.decomposition import PCA\n",
    "# pca = PCA(n_components=8)\n",
    "# train_data1=pca.fit_transform(np.array(train_data))\n",
    "# tsne = TSNE(n_components=2, verbose=1, perplexity=40, n_iter=300)\n",
    "# tsne_results = tsne.fit_transform(np.array(train_data1))"
   ]
  },
  {
   "cell_type": "code",
   "execution_count": 59,
   "metadata": {},
   "outputs": [],
   "source": [
    "# fashion_scatter(tsne_results, np.array(train_label))"
   ]
  },
  {
   "cell_type": "code",
   "execution_count": 144,
   "metadata": {},
   "outputs": [],
   "source": [
    "#Quantile transform\n",
    "quantile_transformer = preprocessing.QuantileTransformer(\n",
    "    output_distribution='normal', random_state=0)                             \n",
    "train_data1=quantile_transformer.fit_transform(train_data).tolist()\n",
    "test_data1=quantile_transformer.transform(test_data).tolist()"
   ]
  },
  {
   "cell_type": "code",
   "execution_count": 392,
   "metadata": {},
   "outputs": [],
   "source": [
    "#Edges as Feature\n",
    "train_data1=[]\n",
    "for i in range(len(train_data)):\n",
    "    gray=np.array(train_data[i],dtype = np.uint8).reshape(48,48,3)\n",
    "    gray = cv2.cvtColor(gray, cv2.COLOR_BGR2GRAY)\n",
    "    blur = cv2.GaussianBlur(gray,(5,5),1)\n",
    "    equ=gray-blur\n",
    "   \n",
    "    train_data1.append(equ.ravel().tolist())\n",
    "test_data1=[]\n",
    "for i in range(len(test_data)):\n",
    "    gray=np.array(test_data[i],dtype = np.uint8).reshape(48,48,3)\n",
    "    gray = cv2.cvtColor(gray, cv2.COLOR_BGR2GRAY)\n",
    "    blur = cv2.GaussianBlur(gray,(5,5),1)\n",
    "    equ=gray-blur\n",
    "   \n",
    "    test_data1.append(equ.ravel().tolist())"
   ]
  },
  {
   "cell_type": "code",
   "execution_count": 147,
   "metadata": {},
   "outputs": [],
   "source": [
    "#Histogram Equilisation\n",
    "train_data1=[]\n",
    "for i in range(len(train_data)):\n",
    "    gray=np.array(train_data[i],dtype = np.uint8).reshape(48,48,3)\n",
    "    gray = cv2.cvtColor(gray, cv2.COLOR_BGR2GRAY)\n",
    "    equ = cv2.equalizeHist(gray)\n",
    "    train_data1.append(equ.ravel().tolist())\n",
    "test_data1=[]\n",
    "for i in range(len(test_data)):\n",
    "    gray=np.array(test_data[i],dtype = np.uint8).reshape(48,48,3)\n",
    "    gray = cv2.cvtColor(gray, cv2.COLOR_BGR2GRAY)\n",
    "    equ = cv2.equalizeHist(gray)\n",
    "    test_data1.append(equ.ravel().tolist())"
   ]
  },
  {
   "cell_type": "code",
   "execution_count": 148,
   "metadata": {},
   "outputs": [],
   "source": [
    "#PCA \n",
    "pca = PCA(n_components=30)\n",
    "train_data1=pca.fit_transform(np.array(train_data1))\n",
    "test_data1=pca.transform(np.array(test_data1))"
   ]
  },
  {
   "cell_type": "code",
   "execution_count": 146,
   "metadata": {},
   "outputs": [],
   "source": [
    "main_test_data=test_data1\n",
    "main_train_data=train_data1"
   ]
  },
  {
   "cell_type": "code",
   "execution_count": null,
   "metadata": {},
   "outputs": [],
   "source": [
    "# main_test_data=np.hstack((main_test_data,test_data1))\n",
    "# main_train_data=np.hstack((main_train_data,train_data1))"
   ]
  },
  {
   "cell_type": "code",
   "execution_count": 261,
   "metadata": {},
   "outputs": [],
   "source": [
    "# #RGB2HSV Equilisation\n",
    "# train_data1=[]\n",
    "# for i in range(len(train_data)):\n",
    "#     gray=np.array(train_data[i],dtype = np.uint8).reshape(48,48,3)\n",
    "#     gray = cv2.cvtColor(gray, cv2.COLOR_BGR2HSV)\n",
    "    \n",
    "#     train_data1.append(gray.ravel().tolist())\n",
    "# test_data1=[]\n",
    "# for i in range(len(test_data)):\n",
    "#     gray=np.array(test_data[i],dtype = np.uint8).reshape(48,48,3)\n",
    "#     gray = cv2.cvtColor(gray, cv2.COLOR_BGR2HSV)\n",
    "#     test_data1.append(gray.ravel().tolist())"
   ]
  },
  {
   "cell_type": "code",
   "execution_count": 104,
   "metadata": {},
   "outputs": [],
   "source": [
    "#LBP feature \n",
    "radius=3\n",
    "n_points=8*radius\n",
    "METHOD=\"uniform\"\n",
    "train_data1=[]\n",
    "for i in range(len(train_data)):\n",
    "    gray=np.array(train_data[i],dtype = np.uint8).reshape(48,48,3)\n",
    "    gray = cv2.cvtColor(gray, cv2.COLOR_BGR2GRAY)\n",
    "    lbp = local_binary_pattern(gray, n_points, radius, METHOD)\n",
    "    train_data1.append(lbp.ravel().tolist())\n",
    "test_data1=[]\n",
    "for i in range(len(test_data)):\n",
    "    gray=np.array(test_data[i],dtype = np.uint8).reshape(48,48,3)\n",
    "    gray = cv2.cvtColor(gray, cv2.COLOR_BGR2GRAY)\n",
    "    lbp = local_binary_pattern(gray, n_points, radius, METHOD)\n",
    "    test_data1.append(lbp.ravel().tolist())"
   ]
  },
  {
   "cell_type": "code",
   "execution_count": 105,
   "metadata": {},
   "outputs": [],
   "source": [
    "#PCA \n",
    "pca = PCA(n_components=30)\n",
    "train_data1=pca.fit_transform(np.array(train_data1))\n",
    "test_data1=pca.transform(np.array(test_data1))"
   ]
  },
  {
   "cell_type": "code",
   "execution_count": null,
   "metadata": {},
   "outputs": [],
   "source": []
  },
  {
   "cell_type": "code",
   "execution_count": 51,
   "metadata": {},
   "outputs": [],
   "source": [
    "#USed for eigen faces\n",
    "pca = PCA(n_components=10, svd_solver='randomized',\n",
    "          whiten=True).fit(train_data1)\n",
    "eigenfaces = pca.components_.reshape((10, 48, 48))"
   ]
  },
  {
   "cell_type": "code",
   "execution_count": null,
   "metadata": {},
   "outputs": [],
   "source": []
  },
  {
   "cell_type": "code",
   "execution_count": 149,
   "metadata": {},
   "outputs": [],
   "source": [
    "main_test_data=np.hstack((main_test_data,test_data1))\n",
    "main_train_data=np.hstack((main_train_data,train_data1))"
   ]
  },
  {
   "cell_type": "code",
   "execution_count": null,
   "metadata": {},
   "outputs": [],
   "source": [
    "main_train_data=copy.deepcopy(train_data1)\n",
    "main_test_data=copy.deepcopy(test_data1)"
   ]
  },
  {
   "cell_type": "code",
   "execution_count": null,
   "metadata": {},
   "outputs": [],
   "source": []
  },
  {
   "cell_type": "code",
   "execution_count": 106,
   "metadata": {},
   "outputs": [],
   "source": [
    "main_train_data=(train_data1)\n",
    "main_test_data=(test_data1)"
   ]
  },
  {
   "cell_type": "code",
   "execution_count": 150,
   "metadata": {},
   "outputs": [],
   "source": [
    "#Hog Feature\n",
    "train_data1=[]\n",
    "for i in range(len(train_data)):\n",
    "    gray=np.array(train_data[i]).reshape(48,48,3)\n",
    "    fd, hog_image = hog(gray, orientations=9, pixels_per_cell=(8, 8),cells_per_block=(2, 2), visualize=True,multichannel=True)\n",
    "    train_data1.append(fd)\n",
    "test_data1=[]\n",
    "for i in range(len(test_data)):\n",
    "    gray=np.array(test_data[i]).reshape(48,48,3)\n",
    "    fd, hog_image = hog(gray, orientations=9, pixels_per_cell=(8, 8),cells_per_block=(2, 2), visualize=True,multichannel=True)\n",
    "    test_data1.append(fd)\n",
    "\n",
    "\n"
   ]
  },
  {
   "cell_type": "code",
   "execution_count": 151,
   "metadata": {},
   "outputs": [],
   "source": [
    "#PCA \n",
    "pca = PCA(n_components=30)\n",
    "train_data1=pca.fit_transform(np.array(train_data1))\n",
    "test_data1=pca.transform(np.array(test_data1))"
   ]
  },
  {
   "cell_type": "code",
   "execution_count": null,
   "metadata": {},
   "outputs": [],
   "source": []
  },
  {
   "cell_type": "code",
   "execution_count": 202,
   "metadata": {},
   "outputs": [],
   "source": [
    "a=copy.deepcopy(main_train_data)\n",
    "b=copy.deepcopy(main_test_data)"
   ]
  },
  {
   "cell_type": "code",
   "execution_count": 152,
   "metadata": {},
   "outputs": [],
   "source": [
    "main_test_data=np.hstack((main_test_data,test_data1))\n",
    "main_train_data=np.hstack((main_train_data,train_data1))"
   ]
  },
  {
   "cell_type": "code",
   "execution_count": 205,
   "metadata": {},
   "outputs": [],
   "source": [
    "\n",
    "# for i in range(len(test_data1)):\n",
    "#     main_test_data[i]+=list(test_data1[i])\n",
    "# for i in range(len(train_data1)):\n",
    "#     main_train_data[i]+=list(train_data1[i])"
   ]
  },
  {
   "cell_type": "code",
   "execution_count": 467,
   "metadata": {},
   "outputs": [
    {
     "data": {
      "text/plain": [
       "'/home/suraj18025/SML_Project'"
      ]
     },
     "execution_count": 467,
     "metadata": {},
     "output_type": "execute_result"
    }
   ],
   "source": [
    "pwd"
   ]
  },
  {
   "cell_type": "code",
   "execution_count": 468,
   "metadata": {},
   "outputs": [],
   "source": [
    "os.chdir('data')"
   ]
  },
  {
   "cell_type": "code",
   "execution_count": 469,
   "metadata": {},
   "outputs": [],
   "source": [
    "# For CNN\n",
    "#Writing into directory named as data\n",
    "s=\"Image@\"\n",
    "g=\".jpg\"\n",
    "counter=0\n",
    "for i in range(len(train_data)):\n",
    "    counter+=1\n",
    "    f=os.listdir()\n",
    "    if str(train_label[i]) not in f:\n",
    "        os.mkdir(str(train_label[i]))\n",
    "        img=np.array(train_data[i],dtype=np.uint8).reshape(48,48,3)\n",
    "        os.chdir(str(train_label[i]))\n",
    "#         plt.imshow(np.array(train_data[i]).reshape(48,48))\n",
    "        cv2.imwrite(s+str(counter)+g,img/np.max(img)*255)\n",
    "        os.chdir('..')\n",
    "    else:\n",
    "        img=np.array(train_data[i],dtype=np.uint8).reshape(48,48,3)\n",
    "        os.chdir(str(train_label[i]))\n",
    "        cv2.imwrite(s+str(counter)+g,img/np.max(img)*255)\n",
    "        os.chdir('..')\n",
    "        "
   ]
  },
  {
   "cell_type": "code",
   "execution_count": 472,
   "metadata": {},
   "outputs": [],
   "source": [
    "os.chdir('testdata')"
   ]
  },
  {
   "cell_type": "code",
   "execution_count": 471,
   "metadata": {},
   "outputs": [
    {
     "data": {
      "text/plain": [
       "'/home/suraj18025/SML_Project'"
      ]
     },
     "execution_count": 471,
     "metadata": {},
     "output_type": "execute_result"
    }
   ],
   "source": [
    "pwd"
   ]
  },
  {
   "cell_type": "code",
   "execution_count": 473,
   "metadata": {},
   "outputs": [],
   "source": [
    "#Writing into directory named as testdata\n",
    "s=\"Image#\"\n",
    "g=\".jpg\"\n",
    "counter=0\n",
    "for i in range(len(test_data)):\n",
    "    counter+=1\n",
    "    f=os.listdir()\n",
    "    if str(test_label[i]) not in f:\n",
    "        os.mkdir(str(test_label[i]))\n",
    "        img=np.array(test_data[i],dtype=np.uint8).reshape(48,48,3)\n",
    "        os.chdir(str(test_label[i]))\n",
    "#         plt.imshow(np.array(train_data[i]).reshape(48,48))\n",
    "        cv2.imwrite(s+str(counter)+g,img/np.max(img)*255)\n",
    "        os.chdir('..')\n",
    "    else:\n",
    "        img=np.array(test_data[i],dtype=np.uint8).reshape(48,48,3)\n",
    "        os.chdir(str(test_label[i]))\n",
    "        cv2.imwrite(s+str(counter)+g,img/np.max(img)*255)\n",
    "        os.chdir('..')\n",
    "        "
   ]
  },
  {
   "cell_type": "code",
   "execution_count": 24,
   "metadata": {},
   "outputs": [],
   "source": [
    "import torch.utils.data as data\n",
    "\n",
    "from PIL import Image\n",
    "import os\n",
    "import os.path\n",
    "\n",
    "def default_loader(path):\n",
    "\treturn Image.open(path).convert('RGB')\n",
    "\n",
    "def default_flist_reader(flist):\n",
    "    \"\"\"\n",
    "    flist format: impath label\\nimpath label\\n ...(same to caffe's filelist)\n",
    "    \"\"\"\n",
    "    imlist = []\n",
    "    os.chdir(flist)\n",
    "    f=os.listdir()\n",
    "    for i in range(len(f)):\n",
    "        os.chdir(f[i])\n",
    "        g=os.listdir()\n",
    "        for j in range(len(g)):\n",
    "            imlist.append(((os.getcwd()+str('/')+str(g[j])), int(f[i])))\n",
    "\n",
    "        os.chdir('..')\n",
    "\n",
    "    return imlist\n",
    "class ImageFilelist(data.Dataset):\n",
    "\tdef __init__(self, root, flist, transform=None, target_transform=None,\n",
    "\t\t\tflist_reader=default_flist_reader, loader=default_loader):\n",
    "\t\tself.root   = root\n",
    "\t\tself.imlist = flist_reader(flist)\t\t\n",
    "\t\tself.transform = transform\n",
    "\t\tself.target_transform = target_transform\n",
    "\t\tself.loader = loader\n",
    "\n",
    "\tdef __getitem__(self, index):\n",
    "\t\timpath, target = self.imlist[index]\n",
    "\t\timg = self.loader(os.path.join(self.root,impath))\n",
    "\t\tif self.transform is not None:\n",
    "\t\t\timg = self.transform(img)\n",
    "\t\tif self.target_transform is not None:\n",
    "\t\t\ttarget = self.target_transform(target)\n",
    "\t\t\n",
    "\t\treturn img, target\n",
    "\n",
    "\tdef __len__(self):\n",
    "\t\treturn len(self.imlist)"
   ]
  },
  {
   "cell_type": "code",
   "execution_count": 42,
   "metadata": {},
   "outputs": [],
   "source": [
    "os.chdir('..')"
   ]
  },
  {
   "cell_type": "code",
   "execution_count": 43,
   "metadata": {},
   "outputs": [],
   "source": [
    "transform = transforms.Compose(\n",
    "    [transforms.Resize(224),transforms.ToTensor()])\n",
    "trainloader = torch.utils.data.DataLoader(ImageFilelist(root=\"./data/\", flist=\"./data/\",\n",
    "                                                         transform=transform),batch_size=4,\n",
    "                                          shuffle=True, num_workers=2)\n",
    "os.chdir('..')\n",
    "testloader = torch.utils.data.DataLoader(ImageFilelist(root=\"./testdata/\", flist=\"./testdata/\",\n",
    "                                                         transform=transform),batch_size=4,\n",
    "                                          shuffle=True, num_workers=2)\n"
   ]
  },
  {
   "cell_type": "code",
   "execution_count": 44,
   "metadata": {},
   "outputs": [],
   "source": [
    "classes = (0,1)"
   ]
  },
  {
   "cell_type": "code",
   "execution_count": null,
   "metadata": {},
   "outputs": [],
   "source": []
  },
  {
   "cell_type": "code",
   "execution_count": null,
   "metadata": {},
   "outputs": [],
   "source": []
  },
  {
   "cell_type": "code",
   "execution_count": null,
   "metadata": {},
   "outputs": [],
   "source": []
  },
  {
   "cell_type": "code",
   "execution_count": 45,
   "metadata": {},
   "outputs": [
    {
     "data": {
      "text/plain": [
       "VGG(\n",
       "  (features): Sequential(\n",
       "    (0): Conv2d(3, 64, kernel_size=(3, 3), stride=(1, 1), padding=(1, 1))\n",
       "    (1): ReLU(inplace)\n",
       "    (2): Conv2d(64, 64, kernel_size=(3, 3), stride=(1, 1), padding=(1, 1))\n",
       "    (3): ReLU(inplace)\n",
       "    (4): MaxPool2d(kernel_size=2, stride=2, padding=0, dilation=1, ceil_mode=False)\n",
       "    (5): Conv2d(64, 128, kernel_size=(3, 3), stride=(1, 1), padding=(1, 1))\n",
       "    (6): ReLU(inplace)\n",
       "    (7): Conv2d(128, 128, kernel_size=(3, 3), stride=(1, 1), padding=(1, 1))\n",
       "    (8): ReLU(inplace)\n",
       "    (9): MaxPool2d(kernel_size=2, stride=2, padding=0, dilation=1, ceil_mode=False)\n",
       "    (10): Conv2d(128, 256, kernel_size=(3, 3), stride=(1, 1), padding=(1, 1))\n",
       "    (11): ReLU(inplace)\n",
       "    (12): Conv2d(256, 256, kernel_size=(3, 3), stride=(1, 1), padding=(1, 1))\n",
       "    (13): ReLU(inplace)\n",
       "    (14): Conv2d(256, 256, kernel_size=(3, 3), stride=(1, 1), padding=(1, 1))\n",
       "    (15): ReLU(inplace)\n",
       "    (16): MaxPool2d(kernel_size=2, stride=2, padding=0, dilation=1, ceil_mode=False)\n",
       "    (17): Conv2d(256, 512, kernel_size=(3, 3), stride=(1, 1), padding=(1, 1))\n",
       "    (18): ReLU(inplace)\n",
       "    (19): Conv2d(512, 512, kernel_size=(3, 3), stride=(1, 1), padding=(1, 1))\n",
       "    (20): ReLU(inplace)\n",
       "    (21): Conv2d(512, 512, kernel_size=(3, 3), stride=(1, 1), padding=(1, 1))\n",
       "    (22): ReLU(inplace)\n",
       "    (23): MaxPool2d(kernel_size=2, stride=2, padding=0, dilation=1, ceil_mode=False)\n",
       "    (24): Conv2d(512, 512, kernel_size=(3, 3), stride=(1, 1), padding=(1, 1))\n",
       "    (25): ReLU(inplace)\n",
       "    (26): Conv2d(512, 512, kernel_size=(3, 3), stride=(1, 1), padding=(1, 1))\n",
       "    (27): ReLU(inplace)\n",
       "    (28): Conv2d(512, 512, kernel_size=(3, 3), stride=(1, 1), padding=(1, 1))\n",
       "    (29): ReLU(inplace)\n",
       "    (30): MaxPool2d(kernel_size=2, stride=2, padding=0, dilation=1, ceil_mode=False)\n",
       "  )\n",
       "  (classifier): Sequential(\n",
       "    (0): Linear(in_features=25088, out_features=4096, bias=True)\n",
       "    (1): ReLU(inplace)\n",
       "    (2): Dropout(p=0.5)\n",
       "    (3): Linear(in_features=4096, out_features=4096, bias=True)\n",
       "    (4): ReLU(inplace)\n",
       "    (5): Dropout(p=0.5)\n",
       "    (6): Linear(in_features=4096, out_features=1000, bias=True)\n",
       "  )\n",
       ")"
      ]
     },
     "execution_count": 45,
     "metadata": {},
     "output_type": "execute_result"
    }
   ],
   "source": [
    "vgg16 = models.vgg16(pretrained=True)\n",
    "vgg16.to(\"cuda:0\")"
   ]
  },
  {
   "cell_type": "code",
   "execution_count": 46,
   "metadata": {},
   "outputs": [],
   "source": [
    "#https://pytorch.org/tutorials/beginner/blitz/cifar10_tutorial.html\n",
    "train_data=[]\n",
    "train_label=[]\n",
    "for i, data in enumerate(trainloader, 0):\n",
    "    # get the inputs\n",
    "    inputs,labels=data\n",
    "    inputs,labels=inputs.to(\"cuda:0\"), labels.to(\"cuda:0\")\n",
    "\n",
    "    outputs = vgg16(inputs)\n",
    "    g=outputs.cpu().detach().numpy().tolist()\n",
    "    h=labels.cpu().numpy().tolist()\n",
    "    for j in range(len(g)):\n",
    "\n",
    "        train_data.append(g[j])\n",
    "        train_label.append(h[j])\n",
    "#         print(h[i])\n",
    "   \n"
   ]
  },
  {
   "cell_type": "code",
   "execution_count": 47,
   "metadata": {},
   "outputs": [],
   "source": [
    "test_data=[]\n",
    "test_label=[]\n",
    "with torch.no_grad():\n",
    "    for data in testloader:\n",
    "        images, labels = data\n",
    "        images,labels=images.to(\"cuda:0\"), labels.to(\"cuda:0\")\n",
    "        outputs = vgg16(images)\n",
    "        g=outputs.cpu().numpy().tolist()\n",
    "        h=labels.cpu().numpy().tolist()\n",
    "        for i in range(len(g)):\n",
    "            test_data.append(g[i])\n",
    "            test_label.append(h[i])"
   ]
  },
  {
   "cell_type": "code",
   "execution_count": 48,
   "metadata": {},
   "outputs": [],
   "source": [
    "train_size=len(train_data)"
   ]
  },
  {
   "cell_type": "code",
   "execution_count": 110,
   "metadata": {},
   "outputs": [],
   "source": [
    "# Cross Validation\n",
    "\n",
    "from sklearn.model_selection import train_test_split\n",
    "from sklearn.model_selection import KFold\n",
    "import csv\n",
    "from xgboost import XGBClassifier\n"
   ]
  },
  {
   "cell_type": "code",
   "execution_count": 111,
   "metadata": {},
   "outputs": [],
   "source": [
    "# from sklearn.neighbors import KNeighborsClassifier\n",
    "# neigh = KNeighborsClassifier(n_neighbors=3)\n",
    "# neigh.fit(X, y) "
   ]
  },
  {
   "cell_type": "code",
   "execution_count": 153,
   "metadata": {},
   "outputs": [],
   "source": [
    "train_data=main_train_data\n",
    "test_data=main_test_data"
   ]
  },
  {
   "cell_type": "code",
   "execution_count": 154,
   "metadata": {},
   "outputs": [],
   "source": [
    "X_train, X_test, y_train = np.array(train_data),np.array(test_data),np.array(train_label)"
   ]
  },
  {
   "cell_type": "code",
   "execution_count": 39,
   "metadata": {},
   "outputs": [],
   "source": [
    "main_train_data=train_data\n",
    "main_test_data=test_data"
   ]
  },
  {
   "cell_type": "code",
   "execution_count": 53,
   "metadata": {},
   "outputs": [],
   "source": [
    "test_data=np.hstack((main_test_data,test_data))\n",
    "train_data=np.hstack((main_train_data,train_data))"
   ]
  },
  {
   "cell_type": "code",
   "execution_count": 155,
   "metadata": {},
   "outputs": [
    {
     "name": "stdout",
     "output_type": "stream",
     "text": [
      "TRAIN: [ 3100  3101  3102 ... 15493 15494 15495] TEST: [   0    1    2 ... 3097 3098 3099]\n",
      "Accuracy  0.6841935483870968\n",
      "TRAIN: [    0     1     2 ... 15493 15494 15495] TEST: [3100 3101 3102 ... 6196 6197 6198]\n",
      "Accuracy  0.691513391416586\n",
      "TRAIN: [    0     1     2 ... 15493 15494 15495] TEST: [6199 6200 6201 ... 9295 9296 9297]\n",
      "Accuracy  0.6708615682478218\n",
      "TRAIN: [    0     1     2 ... 15493 15494 15495] TEST: [ 9298  9299  9300 ... 12394 12395 12396]\n",
      "Accuracy  0.6798967408841562\n",
      "TRAIN: [    0     1     2 ... 12394 12395 12396] TEST: [12397 12398 12399 ... 15493 15494 15495]\n",
      "Accuracy  0.7008712487899322\n"
     ]
    }
   ],
   "source": [
    "kf=KFold(n_splits=5)\n",
    "model=[]\n",
    "score_set1=[]\n",
    "for train_index, test_index in kf.split(X_train):\n",
    "    print(\"TRAIN:\", train_index, \"TEST:\", test_index)\n",
    "    valid_train_data, valid_test_data = X_train[train_index], X_train[test_index]\n",
    "    valid_train_label, valid_test_label = y_train[train_index], y_train[test_index]\n",
    "    \n",
    "    clf = LogisticRegressionCV(random_state=0, solver='lbfgs',multi_class='multinomial')\n",
    "    clf.fit(np.array(valid_train_data),np.array(valid_train_label))\n",
    "\n",
    "    b=clf.predict(np.array(valid_test_data))\n",
    "\n",
    "    score1=clf.score(valid_test_data,valid_test_label)\n",
    "    print(\"Accuracy \",score1)\n",
    "    score_set1.append(score1)\n",
    "    model.append(clf) "
   ]
  },
  {
   "cell_type": "code",
   "execution_count": 156,
   "metadata": {},
   "outputs": [
    {
     "name": "stdout",
     "output_type": "stream",
     "text": [
      "Standard deviation :  0.010196252564463453\n",
      "Mean of accuracy : 0.6854672995451185\n",
      "Accuracy for each validation :  [0.6841935483870968, 0.691513391416586, 0.6708615682478218, 0.6798967408841562, 0.7008712487899322]\n",
      "Test Accuracy by best model in cross validation :  0.6768198244708312\n"
     ]
    }
   ],
   "source": [
    "score_mean=np.mean(score_set1)\n",
    "standard_dev=np.std(score_set1)\n",
    "print(\"Standard deviation : \",standard_dev)\n",
    "print(\"Mean of accuracy :\",score_mean)\n",
    "print(\"Accuracy for each validation : \",score_set1)\n",
    "best=model[np.argmax(score_set1)]\n",
    "best_score6=best.score(np.array(test_data),np.array(test_label))\n",
    "prob_dist6=best.predict_proba(test_data)\n",
    "label_pred=best.predict(test_data).tolist()\n",
    "print(\"Test Accuracy by best model in cross validation : \",best_score6)\n"
   ]
  },
  {
   "cell_type": "code",
   "execution_count": 157,
   "metadata": {},
   "outputs": [
    {
     "name": "stdout",
     "output_type": "stream",
     "text": [
      "Macro Precision  0.6757146928959592\n",
      "Micro Precision  0.6768198244708312\n",
      "Macro Recall  0.6752056316262979\n",
      "Micro Recall  0.6768198244708312\n",
      "Macro F1 measure   0.6753800469463459\n",
      "Micro F1 measure  0.6768198244708312\n"
     ]
    }
   ],
   "source": [
    "y_true=test_label\n",
    "y_pred=label_pred\n",
    "print(\"Macro Precision \",precision_score(y_true, y_pred, average='macro'))\n",
    "print(\"Micro Precision \",precision_score(y_true, y_pred, average='micro'))\n",
    "print(\"Macro Recall \",recall_score(y_true, y_pred, average='macro'))\n",
    "print(\"Micro Recall \",recall_score(y_true, y_pred, average='micro'))\n",
    "print(\"Macro F1 measure  \",precision_recall_fscore_support(y_true, y_pred, average='macro')[2])\n",
    "print(\"Micro F1 measure \",precision_recall_fscore_support(y_true, y_pred, average='micro')[2])"
   ]
  },
  {
   "cell_type": "code",
   "execution_count": 113,
   "metadata": {},
   "outputs": [],
   "source": [
    "#geeks for geeks \n",
    "def sort_list(list1, list2): \n",
    "  \n",
    "    zipped_pairs = zip(list2, list1) \n",
    "  \n",
    "    z = [x for _, x in sorted(zipped_pairs)] \n",
    "      \n",
    "    return z "
   ]
  },
  {
   "cell_type": "code",
   "execution_count": 115,
   "metadata": {},
   "outputs": [],
   "source": [
    "def find_tpr_fpr(predict,real,checker):\n",
    "    tp=0\n",
    "    tn=0\n",
    "    fp=0\n",
    "#     print(\"find_tpr_fpr\")\n",
    "    fn=0\n",
    "    voc=copy.deepcopy([0,1])\n",
    "    v=voc.index(checker)\n",
    "    del voc[v]\n",
    "    for i in range(len(predict)):\n",
    "        if predict[i]==checker and real[i]==checker:\n",
    "            tp=tp+1\n",
    "        if (predict[i] in voc ) and real[i]==checker:\n",
    "            fn=fn+1\n",
    "        if predict[i]==checker and (real[i] in voc):\n",
    "            fp=fp+1\n",
    "        if (predict[i] in voc) and (real[i] in voc):\n",
    "            tn=tn+1\n",
    "    tpr2=0\n",
    "    fpr2=0\n",
    "#     print(\"Total :\",(tp+fp+tn+fn))\n",
    "    tpr2=float(tp/float(tp+fn))   \n",
    "    fpr2=float(fp/float(fp+tn))\n",
    "    \n",
    "    return tpr2,fpr2"
   ]
  },
  {
   "cell_type": "code",
   "execution_count": 119,
   "metadata": {},
   "outputs": [],
   "source": [
    "def roc_design(prob_dist,testdata,checker):\n",
    "    aux1=[]\n",
    "    aux2=[]\n",
    "    testdata1=copy.deepcopy(testdata)\n",
    "    for i in range(len(testdata)):\n",
    "        \n",
    "        aux1.append(prob_dist[i])\n",
    "        aux2.append(testdata[i])\n",
    "    main1=sort_list(aux2, aux1)\n",
    "#     print(\"Probability in incresing order : \",main1)\n",
    "    \n",
    "    tpr=[]\n",
    "    fpr=[]\n",
    "\n",
    "    main2=[]\n",
    "    j=0\n",
    "    for j in range(len(prob_dist)):\n",
    "        main2.append(checker)\n",
    "    i=0\n",
    "    #Logic \n",
    "    if (checker+1)==2:\n",
    "        flag=checker-1\n",
    "    else:\n",
    "        flag=checker+1\n",
    "        \n",
    "    while i <len(prob_dist):\n",
    "        tpr1=0\n",
    "        fpr1=0\n",
    "        j=0\n",
    "        \n",
    "        while (j  <= i):\n",
    "            main2[j]=flag\n",
    "            j=j+1\n",
    "        tpr1,fpr1=find_tpr_fpr(copy.deepcopy(main2),copy.deepcopy(main1),checker)\n",
    "        fpr.append(fpr1)\n",
    "        tpr.append(tpr1)\n",
    "        \n",
    "        i=i+1\n",
    "    return tpr,fpr\n"
   ]
  },
  {
   "cell_type": "code",
   "execution_count": 211,
   "metadata": {},
   "outputs": [
    {
     "name": "stdout",
     "output_type": "stream",
     "text": [
      "0\n"
     ]
    },
    {
     "name": "stderr",
     "output_type": "stream",
     "text": [
      "No handles with labels found to put in legend.\n"
     ]
    },
    {
     "data": {
      "image/png": "[encoded data removed]",
      "text/plain": [
       "<Figure size 432x288 with 1 Axes>"
      ]
     },
     "metadata": {},
     "output_type": "display_data"
    }
   ],
   "source": [
    "# ROC Curve \n",
    "prob_dist=np.transpose(prob_dist6)\n",
    "for i in range(1):\n",
    "    print(i)\n",
    "    tpr,fpr=roc_design(prob_dist[i],test_label,i)\n",
    "    plt.plot(fpr, tpr)\n",
    "# roccurve(prob_dist,test_label)\n",
    "plt.xlabel(\"False +ve Rate\")\n",
    "plt.ylabel(\"True +ve Rate\")\n",
    "plt.legend()\n",
    "plt.title(\"ROC Curve for Male and Female\")\n",
    "plt.show()"
   ]
  },
  {
   "cell_type": "code",
   "execution_count": 212,
   "metadata": {},
   "outputs": [
    {
     "data": {
      "text/plain": [
       "<matplotlib.axes._subplots.AxesSubplot at 0x7fa8919c8c18>"
      ]
     },
     "execution_count": 212,
     "metadata": {},
     "output_type": "execute_result"
    },
    {
     "data": {
      "image/png": "[encoded data removed]",
      "text/plain": [
       "<Figure size 432x288 with 2 Axes>"
      ]
     },
     "metadata": {},
     "output_type": "display_data"
    }
   ],
   "source": [
    "#Confusion Matrix\n",
    "confusionmatrix=[]\n",
    "temp=[0,0]\n",
    "for i in range(2):\n",
    "    confusionmatrix.append(temp)\n",
    "    temp=copy.deepcopy(temp)\n",
    "for i in range(len(test_label)):\n",
    "    confusionmatrix[test_label[i]][label_pred[i]]=confusionmatrix[test_label[i]][label_pred[i]]+1\n",
    "seaborn.heatmap(confusionmatrix,annot=True,fmt=\"d\")   "
   ]
  },
  {
   "cell_type": "markdown",
   "metadata": {},
   "source": [
    "# SVM"
   ]
  },
  {
   "cell_type": "code",
   "execution_count": null,
   "metadata": {},
   "outputs": [],
   "source": [
    "model,score_set=cross_validation_svm(train_data,train_label,train_size)"
   ]
  },
  {
   "cell_type": "code",
   "execution_count": null,
   "metadata": {},
   "outputs": [],
   "source": [
    "score_mean=np.mean(np.array(score_set))\n",
    "standard_dev=np.std(np.array(score_set))\n",
    "print(\"Standard deviation : \",standard_dev)\n",
    "print(\"Mean of accuracy :\",score_mean)\n",
    "print(\"Accuracy for each validation : \",score_set)\n",
    "best=model[np.argmax(score_set)]\n",
    "best_score=best.score(test_data,test_label)\n",
    "prob_dist=best.predict_proba(test_data).tolist()\n",
    "label_pred=best.predict(test_data).tolist()\n",
    "print(\"Test Accuracy by best model in cross validation : \",best_score)"
   ]
  },
  {
   "cell_type": "code",
   "execution_count": null,
   "metadata": {},
   "outputs": [],
   "source": []
  },
  {
   "cell_type": "code",
   "execution_count": 107,
   "metadata": {},
   "outputs": [
    {
     "data": {
      "text/plain": [
       "<matplotlib.axes._subplots.AxesSubplot at 0x7fa919ae9b38>"
      ]
     },
     "execution_count": 107,
     "metadata": {},
     "output_type": "execute_result"
    },
    {
     "data": {
      "image/png": "[encoded data removed]",
      "text/plain": [
       "<Figure size 432x288 with 2 Axes>"
      ]
     },
     "metadata": {},
     "output_type": "display_data"
    }
   ],
   "source": [
    "#Confusion Matrix\n",
    "confusionmatrix=[]\n",
    "temp=[0,0]\n",
    "for i in range(2):\n",
    "    confusionmatrix.append(temp)\n",
    "    temp=copy.deepcopy(temp)\n",
    "for i in range(len(test_label)):\n",
    "    confusionmatrix[test_label[i]][label_pred[i]]=confusionmatrix[test_label[i]][label_pred[i]]+1\n",
    "seaborn.heatmap(confusionmatrix,annot=True,fmt=\"d\")   "
   ]
  },
  {
   "cell_type": "code",
   "execution_count": null,
   "metadata": {},
   "outputs": [],
   "source": [
    "# ROC Curve \n",
    "prob_dist=np.transpose(prob_dist)\n",
    "for i in range(2):\n",
    "    print(i)\n",
    "    tpr,fpr=roc_design(prob_dist[i],test_label,i)\n",
    "    plt.plot(fpr, tpr ,label=\"Class\"+str(i+1))\n",
    "# roccurve(prob_dist,test_label)\n",
    "plt.xlabel(\"False +ve Rate\")\n",
    "plt.ylabel(\"True +ve Rate\")\n",
    "plt.legend()\n",
    "plt.title(\"ROC Curve for Male and Female\")\n",
    "plt.show()"
   ]
  },
  {
   "cell_type": "markdown",
   "metadata": {},
   "source": [
    "# Naive Bayes"
   ]
  },
  {
   "cell_type": "code",
   "execution_count": 60,
   "metadata": {},
   "outputs": [],
   "source": [
    "model,score_set=cross_validation_gaussian(train_data,train_label,train_size)"
   ]
  },
  {
   "cell_type": "code",
   "execution_count": 61,
   "metadata": {},
   "outputs": [
    {
     "name": "stdout",
     "output_type": "stream",
     "text": [
      "Standard deviation :  0.009042675734710725\n",
      "Mean of accuracy : 0.5956927637756806\n",
      "Accuracy for each validation :  [0.599188790560472, 0.5800147492625368, 0.5977138643067846, 0.6076696165191741, 0.5938767982294356]\n",
      "Test Accuracy by best model in cross validation :  0.5885389778007227\n"
     ]
    }
   ],
   "source": [
    "score_mean=np.mean(np.array(score_set))\n",
    "standard_dev=np.std(np.array(score_set))\n",
    "print(\"Standard deviation : \",standard_dev)\n",
    "print(\"Mean of accuracy :\",score_mean)\n",
    "print(\"Accuracy for each validation : \",score_set)\n",
    "best=model[np.argmax(score_set)]\n",
    "best_score=best.score(test_data,test_label)\n",
    "prob_dist=best.predict_proba(test_data).tolist()\n",
    "label_pred=best.predict(test_data).tolist()\n",
    "print(\"Test Accuracy by best model in cross validation : \",best_score)"
   ]
  },
  {
   "cell_type": "code",
   "execution_count": null,
   "metadata": {},
   "outputs": [],
   "source": []
  },
  {
   "cell_type": "code",
   "execution_count": 62,
   "metadata": {},
   "outputs": [
    {
     "data": {
      "text/plain": [
       "<matplotlib.axes._subplots.AxesSubplot at 0x7fa914bdaba8>"
      ]
     },
     "execution_count": 62,
     "metadata": {},
     "output_type": "execute_result"
    },
    {
     "data": {
      "image/png": "[encoded data removed]",
      "text/plain": [
       "<Figure size 432x288 with 2 Axes>"
      ]
     },
     "metadata": {},
     "output_type": "display_data"
    }
   ],
   "source": [
    "#Confusion Matrix\n",
    "confusionmatrix=[]\n",
    "temp=[0,0]\n",
    "for i in range(2):\n",
    "    confusionmatrix.append(temp)\n",
    "    temp=copy.deepcopy(temp)\n",
    "for i in range(len(test_label)):\n",
    "    confusionmatrix[test_label[i]][label_pred[i]]=confusionmatrix[test_label[i]][label_pred[i]]+1\n",
    "seaborn.heatmap(confusionmatrix,annot=True,fmt=\"d\")   "
   ]
  },
  {
   "cell_type": "code",
   "execution_count": null,
   "metadata": {},
   "outputs": [],
   "source": [
    "# ROC Curve \n",
    "prob_dist=np.transpose(prob_dist)\n",
    "for i in range(2):\n",
    "    print(i)\n",
    "    tpr,fpr=roc_design(prob_dist[i],test_label,i)\n",
    "    plt.plot(fpr, tpr ,label=\"Class\"+str(i+1))\n",
    "# roccurve(prob_dist,test_label)\n",
    "plt.xlabel(\"False +ve Rate\")\n",
    "plt.ylabel(\"True +ve Rate\")\n",
    "plt.legend()\n",
    "plt.title(\"ROC Curve for Male and Female\")\n",
    "plt.show()"
   ]
  },
  {
   "cell_type": "code",
   "execution_count": null,
   "metadata": {},
   "outputs": [],
   "source": []
  },
  {
   "cell_type": "markdown",
   "metadata": {},
   "source": [
    "# Logistic Regreesion"
   ]
  },
  {
   "cell_type": "code",
   "execution_count": null,
   "metadata": {},
   "outputs": [],
   "source": [
    "model,score_set=cross_validation_logistic(train_data,train_label,train_size)"
   ]
  },
  {
   "cell_type": "code",
   "execution_count": null,
   "metadata": {},
   "outputs": [],
   "source": [
    "score_mean=np.mean(np.array(score_set))\n",
    "standard_dev=np.std(np.array(score_set))\n",
    "print(\"Standard deviation : \",standard_dev)\n",
    "print(\"Mean of accuracy :\",score_mean)\n",
    "print(\"Accuracy for each validation : \",score_set)\n",
    "best=model[np.argmax(score_set)]\n",
    "best_score=best.score(test_data,test_label)\n",
    "prob_dist=best.predict_proba(test_data).tolist()\n",
    "label_pred=best.predict(test_data).tolist()\n",
    "print(\"Test Accuracy by best model in cross validation : \",best_score)"
   ]
  },
  {
   "cell_type": "code",
   "execution_count": null,
   "metadata": {},
   "outputs": [],
   "source": []
  },
  {
   "cell_type": "code",
   "execution_count": null,
   "metadata": {},
   "outputs": [],
   "source": [
    "test=[]\n",
    "pred=[]\n",
    "for i in range(len(test_label)):\n",
    "    test.append(convert1(test_label[i]))\n",
    "    pred.append(convert1(label_pred[i]))\n",
    "test_label=copy.deepcopy(test)\n",
    "label_pred=copy.deepcopy(pred)"
   ]
  },
  {
   "cell_type": "code",
   "execution_count": null,
   "metadata": {},
   "outputs": [],
   "source": []
  },
  {
   "cell_type": "code",
   "execution_count": null,
   "metadata": {},
   "outputs": [],
   "source": [
    "#Confusion Matrix\n",
    "confusionmatrix=[]\n",
    "temp=[0,0]\n",
    "for i in range(2):\n",
    "    confusionmatrix.append(temp)\n",
    "    temp=copy.deepcopy(temp)\n",
    "for i in range(len(test_label)):\n",
    "    confusionmatrix[test_label[i]][label_pred[i]]=confusionmatrix[test_label[i]][label_pred[i]]+1\n",
    "seaborn.heatmap(confusionmatrix,annot=True,fmt=\"d\")   "
   ]
  },
  {
   "cell_type": "code",
   "execution_count": null,
   "metadata": {},
   "outputs": [],
   "source": [
    "# ROC Curve \n",
    "prob_dist=np.transpose(prob_dist)\n",
    "for i in range(2):\n",
    "    print(i)\n",
    "    tpr,fpr=roc_design(prob_dist[i],test_label,i)\n",
    "    plt.plot(fpr, tpr ,label=\"Class\"+str(i+1))\n",
    "# roccurve(prob_dist,test_label)\n",
    "plt.xlabel(\"False +ve Rate\")\n",
    "plt.ylabel(\"True +ve Rate\")\n",
    "plt.legend()\n",
    "plt.title(\"ROC Curve for Male and Female\")\n",
    "plt.show()"
   ]
  },
  {
   "cell_type": "code",
   "execution_count": null,
   "metadata": {},
   "outputs": [],
   "source": []
  },
  {
   "cell_type": "code",
   "execution_count": null,
   "metadata": {},
   "outputs": [],
   "source": [
    "temp=[]\n",
    "for i in range(len(train_label)):\n",
    "    if train_label[i]=='f':\n",
    "        temp.append(1)\n",
    "    else:\n",
    "        temp.append(0)\n",
    "train_label=copy.deepcopy(temp)"
   ]
  },
  {
   "cell_type": "code",
   "execution_count": null,
   "metadata": {},
   "outputs": [],
   "source": []
  },
  {
   "cell_type": "markdown",
   "metadata": {},
   "source": [
    "# Neural Network"
   ]
  },
  {
   "cell_type": "code",
   "execution_count": null,
   "metadata": {},
   "outputs": [],
   "source": [
    "x_train=np.array(train_data)\n",
    "y_train=np.array(train_label)\n",
    "x_test=np.array(test_data)\n",
    "y_test=np.array(test_label)"
   ]
  },
  {
   "cell_type": "code",
   "execution_count": null,
   "metadata": {},
   "outputs": [],
   "source": [
    "x_train = tf.keras.utils.normalize(x_train, axis=1)\n",
    "x_test = tf.keras.utils.normalize(x_test, axis=1)\n",
    "model = tf.keras.models.Sequential()"
   ]
  },
  {
   "cell_type": "code",
   "execution_count": null,
   "metadata": {},
   "outputs": [],
   "source": [
    "model.add(tf.keras.layers.Flatten())\n",
    "model.add(tf.keras.layers.Dense(128, activation=tf.nn.relu))\n",
    "model.add(tf.keras.layers.Dense(128, activation=tf.nn.relu))\n",
    "model.add(tf.keras.layers.Dense(128, activation=tf.nn.relu))\n",
    "model.add(tf.keras.layers.Dense(128, activation=tf.nn.relu))\n",
    "model.add(tf.keras.layers.Dense(128, activation=tf.nn.relu))\n",
    "model.add(tf.keras.layers.Dense(3, activation=tf.nn.softmax))"
   ]
  },
  {
   "cell_type": "code",
   "execution_count": null,
   "metadata": {},
   "outputs": [],
   "source": [
    "model.compile(optimizer='adam',\n",
    "              loss='mean_squared_error',\n",
    "              metrics=['accuracy'])"
   ]
  },
  {
   "cell_type": "code",
   "execution_count": null,
   "metadata": {},
   "outputs": [],
   "source": [
    "model.fit(x_train, y_train, epochs=50)"
   ]
  },
  {
   "cell_type": "markdown",
   "metadata": {},
   "source": [
    "# Adaboosting"
   ]
  },
  {
   "cell_type": "code",
   "execution_count": null,
   "metadata": {},
   "outputs": [],
   "source": [
    "def adaboost(n,train_data1,train_label1,test_data,test_label,weights,d):\n",
    "    \n",
    "    alpha_k=[]\n",
    "    Ck=[]\n",
    "    nat=[i for i in range(len(train_data1))]\n",
    "    main_data=copy.deepcopy(train_data1)\n",
    "    main_label=copy.deepcopy(train_label1)\n",
    "    \n",
    "    for i in range(n):\n",
    "        print(i)\n",
    "#         print(\"Hello : \",i)\n",
    "        sample = choice(nat, d,p=weights,replace=False)\n",
    "#         sample = choice(nat,d,weights,replace=False)\n",
    "        train_data=[]\n",
    "        train_label=[]\n",
    "        for j in range(len(sample)):\n",
    "            train_data.append(train_data1[sample[j]])\n",
    "            train_label.append(train_label1[sample[j]])\n",
    "        \n",
    "        clf=DecisionTreeClassifier(max_depth=3,max_leaf_nodes=10)\n",
    "        clf.fit(np.array(train_data),np.array(train_label))\n",
    "        predict1=clf.predict(np.array(main_data))\n",
    "        h=labelling(predict1.tolist(),main_label)\n",
    "        train_err=clf.score(np.array(train_data),np.array(train_label))\n",
    "        train_err=1-train_err\n",
    "        alpha=0.5*np.log((1-train_err)/float(train_err))+np.log(25)\n",
    "        alpha_k.append(alpha)\n",
    "        Ck.append(clf)\n",
    "#         print(\"Hello1 : \",i)\n",
    "        for j in range(len(weights)):\n",
    "            \n",
    "            if h[j]==1:\n",
    "                \n",
    "                weights[j]=weights[j]*math.exp((-1)*alpha)\n",
    "            else:\n",
    "                weights[j]=weights[j]*math.exp(alpha)\n",
    "        w=copy.deepcopy(weights)\n",
    "        total=np.sum(w)\n",
    "        for j in range(len(weights)):\n",
    "            weights[j]=weights[j]/float(total)\n",
    "#         print(\"Hello2 : \",i)\n",
    " #For test set\n",
    "    test_predict=[]\n",
    "    for i in range(len(test_data)):\n",
    "        disc_func=[[] for i in class_label]\n",
    "        for j in range(k_max):\n",
    "            index=Ck[j].predict(np.array(test_data[i]).reshape(1,-1)).tolist()[0]\n",
    "            if disc_func[index]==[]:\n",
    "                disc_func[index].append(alpha_k[j])\n",
    "            else:\n",
    "                disc_func[index][0]+=alpha_k[j]\n",
    "        test_predict.append(disc_func.index(max(disc_func)))\n",
    "\n",
    "    test_acc=accuracy(test_predict,test_label)   \n",
    "# For train set\n",
    "    train_predict=[]\n",
    "#     for i in range(len(train_data1)):\n",
    "#         disc_func1=[[] for i in class_label]\n",
    "#         for j in range(k_max):\n",
    "#             index=Ck[j].predict(np.array(train_data1[i]).reshape(1,-1)).tolist()[0]\n",
    "#             if disc_func1[index]==[]:\n",
    "#                 disc_func1[index].append(alpha_k[j])\n",
    "#             else:\n",
    "#                 disc_func1[index][0]+=alpha_k[j]\n",
    "#         train_predict.append(disc_func1.index(max(disc_func1)))\n",
    "\n",
    "#     train_acc=accuracy(train_predict,train_label1)  \n",
    "    train_acc=0\n",
    "    return Ck,alpha_k,train_predict,test_predict,train_acc,test_acc\n",
    "            "
   ]
  },
  {
   "cell_type": "code",
   "execution_count": null,
   "metadata": {},
   "outputs": [],
   "source": [
    "k_max=50\n",
    "d=3000\n",
    "class_label=list(set(train_label))\n"
   ]
  },
  {
   "cell_type": "code",
   "execution_count": null,
   "metadata": {},
   "outputs": [],
   "source": [
    "weights=[1/float(len(train_data)) for i in train_data]\n",
    "Ck,alpha_k,train_result,test_result,train_acc,test_acc=adaboost(k_max,train_data,train_label,test_data,test_label,weights,d)"
   ]
  },
  {
   "cell_type": "code",
   "execution_count": null,
   "metadata": {},
   "outputs": [],
   "source": [
    "print(\"Accuracy in training : \",train_acc)\n",
    "print(\"Accuracy in testing : \",test_acc)"
   ]
  },
  {
   "cell_type": "markdown",
   "metadata": {},
   "source": [
    "# Histogram as feature set"
   ]
  },
  {
   "cell_type": "code",
   "execution_count": null,
   "metadata": {},
   "outputs": [],
   "source": [
    "def histogram(train_data):\n",
    "    hist=[0]*256\n",
    "    for i in range(len(train_data)):\n",
    "        hist[train_data[i]]+=1\n",
    "    return hist\n",
    "        "
   ]
  },
  {
   "cell_type": "code",
   "execution_count": null,
   "metadata": {},
   "outputs": [],
   "source": [
    "train_data1=[]\n",
    "for i in range(len(train_data)):\n",
    "    train_data1.append(histogram(train_data[i]))\n",
    "test_data1=[]\n",
    "for i in range(len(test_data)):\n",
    "    test_data1.append(histogram(test_data[i]))\n",
    "\n"
   ]
  },
  {
   "cell_type": "code",
   "execution_count": null,
   "metadata": {},
   "outputs": [],
   "source": [
    "train_data=copy.deepcopy(train_data1)\n",
    "test_data=copy.deepcopy(test_data1)\n"
   ]
  },
  {
   "cell_type": "markdown",
   "metadata": {},
   "source": [
    "# Logistic Regression"
   ]
  },
  {
   "cell_type": "code",
   "execution_count": null,
   "metadata": {},
   "outputs": [],
   "source": [
    "model,score_set=cross_validation_logistic(train_data,train_label,train_size)"
   ]
  },
  {
   "cell_type": "code",
   "execution_count": null,
   "metadata": {},
   "outputs": [],
   "source": [
    "score_mean=np.mean(np.array(score_set))\n",
    "standard_dev=np.std(np.array(score_set))\n",
    "print(\"Standard deviation : \",standard_dev)\n",
    "print(\"Mean of accuracy :\",score_mean)\n",
    "print(\"Accuracy for each validation : \",score_set)\n",
    "best=model[np.argmax(score_set)]\n",
    "best_score=best.score(test_data,test_label)\n",
    "prob_dist=best.predict_proba(test_data).tolist()\n",
    "label_pred=best.predict(test_data).tolist()\n",
    "print(\"Test Accuracy by best model in cross validation : \",best_score)"
   ]
  },
  {
   "cell_type": "code",
   "execution_count": null,
   "metadata": {},
   "outputs": [],
   "source": [
    "#Confusion Matrix\n",
    "confusionmatrix=[]\n",
    "temp=[0,0]\n",
    "for i in range(2):\n",
    "    confusionmatrix.append(temp)\n",
    "    temp=copy.deepcopy(temp)\n",
    "for i in range(len(test_label)):\n",
    "    confusionmatrix[test_label[i]][label_pred[i]]=confusionmatrix[test_label[i]][label_pred[i]]+1\n",
    "seaborn.heatmap(confusionmatrix,annot=True,fmt=\"d\")   "
   ]
  },
  {
   "cell_type": "code",
   "execution_count": null,
   "metadata": {},
   "outputs": [],
   "source": [
    "# ROC Curve \n",
    "prob_dist=np.transpose(prob_dist)\n",
    "for i in range(2):\n",
    "    print(i)\n",
    "    tpr,fpr=roc_design(prob_dist[i],test_label,i)\n",
    "    plt.plot(fpr, tpr ,label=\"Class\"+str(i+1))\n",
    "# roccurve(prob_dist,test_label)\n",
    "plt.xlabel(\"False +ve Rate\")\n",
    "plt.ylabel(\"True +ve Rate\")\n",
    "plt.legend()\n",
    "plt.title(\"ROC Curve for Male and Female\")\n",
    "plt.show()"
   ]
  },
  {
   "cell_type": "code",
   "execution_count": null,
   "metadata": {},
   "outputs": [],
   "source": []
  },
  {
   "cell_type": "markdown",
   "metadata": {},
   "source": [
    "# Naive Bayes"
   ]
  },
  {
   "cell_type": "code",
   "execution_count": null,
   "metadata": {},
   "outputs": [],
   "source": [
    "model,score_set=cross_validation_gaussian(train_data,train_label,train_size)"
   ]
  },
  {
   "cell_type": "code",
   "execution_count": null,
   "metadata": {},
   "outputs": [],
   "source": [
    "score_mean=np.mean(np.array(score_set))\n",
    "standard_dev=np.std(np.array(score_set))\n",
    "print(\"Standard deviation : \",standard_dev)\n",
    "print(\"Mean of accuracy :\",score_mean)\n",
    "print(\"Accuracy for each validation : \",score_set)\n",
    "best=model[np.argmax(score_set)]\n",
    "best_score=best.score(test_data,test_label)\n",
    "prob_dist=best.predict_proba(test_data).tolist()\n",
    "label_pred=best.predict(test_data).tolist()\n",
    "print(\"Test Accuracy by best model in cross validation : \",best_score)"
   ]
  },
  {
   "cell_type": "code",
   "execution_count": null,
   "metadata": {},
   "outputs": [],
   "source": [
    "#Confusion Matrix\n",
    "confusionmatrix=[]\n",
    "temp=[0,0]\n",
    "for i in range(2):\n",
    "    confusionmatrix.append(temp)\n",
    "    temp=copy.deepcopy(temp)\n",
    "for i in range(len(test_label)):\n",
    "    confusionmatrix[test_label[i]][label_pred[i]]=confusionmatrix[test_label[i]][label_pred[i]]+1\n",
    "seaborn.heatmap(confusionmatrix,annot=True,fmt=\"d\")   "
   ]
  },
  {
   "cell_type": "code",
   "execution_count": null,
   "metadata": {},
   "outputs": [],
   "source": [
    "# ROC Curve \n",
    "prob_dist=np.transpose(prob_dist)\n",
    "for i in range(2):\n",
    "    print(i)\n",
    "    tpr,fpr=roc_design(prob_dist[i],test_label,i)\n",
    "    plt.plot(fpr, tpr ,label=\"Class\"+str(i+1))\n",
    "# roccurve(prob_dist,test_label)\n",
    "plt.xlabel(\"False +ve Rate\")\n",
    "plt.ylabel(\"True +ve Rate\")\n",
    "plt.legend()\n",
    "plt.title(\"ROC Curve for Male and Female\")\n",
    "plt.show()"
   ]
  },
  {
   "cell_type": "code",
   "execution_count": null,
   "metadata": {},
   "outputs": [],
   "source": []
  },
  {
   "cell_type": "markdown",
   "metadata": {},
   "source": [
    "# SVM"
   ]
  },
  {
   "cell_type": "code",
   "execution_count": null,
   "metadata": {},
   "outputs": [],
   "source": [
    "model,score_set=cross_validation_svm(train_data,train_label,train_size)"
   ]
  },
  {
   "cell_type": "code",
   "execution_count": null,
   "metadata": {},
   "outputs": [],
   "source": [
    "score_mean=np.mean(np.array(score_set))\n",
    "standard_dev=np.std(np.array(score_set))\n",
    "print(\"Standard deviation : \",standard_dev)\n",
    "print(\"Mean of accuracy :\",score_mean)\n",
    "print(\"Accuracy for each validation : \",score_set)\n",
    "best=model[np.argmax(score_set)]\n",
    "best_score=best.score(test_data,test_label)\n",
    "prob_dist=best.predict_proba(test_data).tolist()\n",
    "label_pred=best.predict(test_data).tolist()\n",
    "print(\"Test Accuracy by best model in cross validation : \",best_score)"
   ]
  },
  {
   "cell_type": "code",
   "execution_count": null,
   "metadata": {},
   "outputs": [],
   "source": [
    "#Confusion Matrix\n",
    "confusionmatrix=[]\n",
    "temp=[0,0]\n",
    "for i in range(2):\n",
    "    confusionmatrix.append(temp)\n",
    "    temp=copy.deepcopy(temp)\n",
    "for i in range(len(test_label)):\n",
    "    confusionmatrix[test_label[i]][label_pred[i]]=confusionmatrix[test_label[i]][label_pred[i]]+1\n",
    "seaborn.heatmap(confusionmatrix,annot=True,fmt=\"d\")   "
   ]
  },
  {
   "cell_type": "code",
   "execution_count": null,
   "metadata": {},
   "outputs": [],
   "source": [
    "# ROC Curve \n",
    "prob_dist=np.transpose(prob_dist)\n",
    "for i in range(2):\n",
    "    print(i)\n",
    "    tpr,fpr=roc_design(prob_dist[i],test_label,i)\n",
    "    plt.plot(fpr, tpr ,label=\"Class\"+str(i+1))\n",
    "# roccurve(prob_dist,test_label)\n",
    "plt.xlabel(\"False +ve Rate\")\n",
    "plt.ylabel(\"True +ve Rate\")\n",
    "plt.legend()\n",
    "plt.title(\"ROC Curve for Male and Female\")\n",
    "plt.show()"
   ]
  },
  {
   "cell_type": "code",
   "execution_count": null,
   "metadata": {},
   "outputs": [],
   "source": []
  },
  {
   "cell_type": "code",
   "execution_count": null,
   "metadata": {},
   "outputs": [],
   "source": []
  },
  {
   "cell_type": "markdown",
   "metadata": {},
   "source": [
    "# Neural Network"
   ]
  },
  {
   "cell_type": "code",
   "execution_count": null,
   "metadata": {},
   "outputs": [],
   "source": [
    "x_train=np.array(train_data)\n",
    "y_train=np.array(train_label)\n",
    "x_test=np.array(test_data)\n",
    "y_test=np.array(test_label)"
   ]
  },
  {
   "cell_type": "code",
   "execution_count": null,
   "metadata": {},
   "outputs": [],
   "source": [
    "x_train = tf.keras.utils.normalize(x_train, axis=1)\n",
    "x_test = tf.keras.utils.normalize(x_test, axis=1)\n",
    "model = tf.keras.models.Sequential()"
   ]
  },
  {
   "cell_type": "code",
   "execution_count": null,
   "metadata": {},
   "outputs": [],
   "source": [
    "model.add(tf.keras.layers.Flatten())\n",
    "model.add(tf.keras.layers.Dense(128, activation=tf.nn.relu))\n",
    "model.add(tf.keras.layers.Dense(128, activation=tf.nn.relu))\n",
    "model.add(tf.keras.layers.Dense(128, activation=tf.nn.relu))\n",
    "model.add(tf.keras.layers.Dense(128, activation=tf.nn.relu))\n",
    "model.add(tf.keras.layers.Dense(128, activation=tf.nn.relu))\n",
    "model.add(tf.keras.layers.Dense(128, activation=tf.nn.relu))\n",
    "model.add(tf.keras.layers.Dense(128, activation=tf.nn.relu))\n",
    "model.add(tf.keras.layers.Dense(2, activation=tf.nn.softmax))"
   ]
  },
  {
   "cell_type": "code",
   "execution_count": null,
   "metadata": {},
   "outputs": [],
   "source": [
    "model.compile(optimizer='adam',\n",
    "              loss='sparse_categorical_crossentropy',\n",
    "              metrics=['accuracy'])"
   ]
  },
  {
   "cell_type": "code",
   "execution_count": null,
   "metadata": {},
   "outputs": [],
   "source": [
    "model.fit(x_train, y_train, epochs=50)"
   ]
  },
  {
   "cell_type": "code",
   "execution_count": null,
   "metadata": {},
   "outputs": [],
   "source": [
    "val_loss, val_acc = model.evaluate(x_test, y_test)\n",
    "print(val_loss)\n",
    "print(val_acc)"
   ]
  },
  {
   "cell_type": "markdown",
   "metadata": {},
   "source": [
    "# Adaboosting"
   ]
  },
  {
   "cell_type": "code",
   "execution_count": null,
   "metadata": {},
   "outputs": [],
   "source": [
    "k_max=50\n",
    "d=3000\n",
    "class_label=list(set(train_label))"
   ]
  },
  {
   "cell_type": "code",
   "execution_count": null,
   "metadata": {},
   "outputs": [],
   "source": [
    "def accuracy(predict,true):\n",
    "    count=0\n",
    "    for i in range(len(predict)):\n",
    "        if predict[i]==true[i]:\n",
    "            count+=1\n",
    "    return count/float(len(predict))"
   ]
  },
  {
   "cell_type": "code",
   "execution_count": null,
   "metadata": {},
   "outputs": [],
   "source": [
    "def labelling(predict,true):\n",
    "    h=[]\n",
    "    for i in range(len(predict)):\n",
    "        if predict[i]==true[i]:\n",
    "            h.append(1)\n",
    "        else:\n",
    "            h.append(0)\n",
    "    return h"
   ]
  },
  {
   "cell_type": "code",
   "execution_count": null,
   "metadata": {},
   "outputs": [],
   "source": [
    "weights=[1/float(len(train_data)) for i in train_data]\n",
    "Ck,alpha_k,train_result,test_result,train_acc,test_acc=adaboost(k_max,train_data,train_label,test_data,test_label,weights,d)"
   ]
  },
  {
   "cell_type": "code",
   "execution_count": null,
   "metadata": {},
   "outputs": [],
   "source": [
    "print(\"Accuracy in training : \",train_acc)\n",
    "print(\"Accuracy in testing : \",test_acc)"
   ]
  },
  {
   "cell_type": "code",
   "execution_count": null,
   "metadata": {},
   "outputs": [],
   "source": [
    "#Confusion Matrix\n",
    "confusionmatrix=[]\n",
    "temp=[0,0]\n",
    "for i in range(2):\n",
    "    confusionmatrix.append(temp)\n",
    "    temp=copy.deepcopy(temp)\n",
    "for i in range(len(test_label)):\n",
    "    confusionmatrix[test_label[i]][test_result[i]]=confusionmatrix[test_label[i]][test_result[i]]+1\n",
    "seaborn.heatmap(confusionmatrix,annot=True,fmt=\"d\")   "
   ]
  },
  {
   "cell_type": "code",
   "execution_count": null,
   "metadata": {},
   "outputs": [],
   "source": []
  },
  {
   "cell_type": "code",
   "execution_count": null,
   "metadata": {},
   "outputs": [],
   "source": []
  },
  {
   "cell_type": "markdown",
   "metadata": {},
   "source": [
    "# Bagging"
   ]
  },
  {
   "cell_type": "code",
   "execution_count": null,
   "metadata": {},
   "outputs": [],
   "source": [
    "a=[[1749,1252],[1248,1562]]"
   ]
  },
  {
   "cell_type": "code",
   "execution_count": null,
   "metadata": {},
   "outputs": [],
   "source": [
    "seaborn.heatmap(a,annot=True,fmt=\"d\")   "
   ]
  },
  {
   "cell_type": "code",
   "execution_count": null,
   "metadata": {},
   "outputs": [],
   "source": []
  },
  {
   "cell_type": "code",
   "execution_count": null,
   "metadata": {},
   "outputs": [],
   "source": []
  }
 ],
 "metadata": {
  "kernelspec": {
   "display_name": "Python 3",
   "language": "python",
   "name": "python3"
  },
  "language_info": {
   "codemirror_mode": {
    "name": "ipython",
    "version": 3
   },
   "file_extension": ".py",
   "mimetype": "text/x-python",
   "name": "python",
   "nbconvert_exporter": "python",
   "pygments_lexer": "ipython3",
   "version": "3.6.8"
  }
 },
 "nbformat": 4,
 "nbformat_minor": 2
}
